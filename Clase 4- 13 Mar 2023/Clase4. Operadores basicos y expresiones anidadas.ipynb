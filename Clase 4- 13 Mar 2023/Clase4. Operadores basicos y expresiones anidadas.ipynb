{
 "cells": [
  {
   "attachments": {},
   "cell_type": "markdown",
   "metadata": {},
   "source": [
    "# Operadores\n",
    "Se utilizan para realizar operaciones y generar valores/variables con los tipos de datos en Python\n",
    "\n",
    "Hay de diversos tipos:\n",
    "- $\\color{red}{\\text{Aritmeticos}}$ = (+,-,*,/,%,**)\n",
    "- $\\color{red}{\\text{Comparacion}}$ = (<,>, <=, >=, !=, ==)\n",
    "- $\\color{red}{\\text{Asignacion}}$ = (=, +=,-=, *=,/=, **=, //=)\n",
    "- $\\color{red}{\\text{Logicos}}$ = (and,or,not)\n",
    "- Bitwise (&,|,>>,<<,>>,~)\n",
    "- Identidad (is, is not)\n",
    "- Pertenencia (in, not in)\n",
    "\n",
    "En $\\color{red}{\\text{rojo}}$ los que vemos en esta clase"
   ]
  },
  {
   "attachments": {},
   "cell_type": "markdown",
   "metadata": {},
   "source": [
    "# Seccion 1\n",
    "\n",
    "## Seccion 1.1"
   ]
  },
  {
   "cell_type": "code",
   "execution_count": 1,
   "metadata": {},
   "outputs": [
    {
     "data": {
      "text/plain": [
       "-9"
      ]
     },
     "execution_count": 1,
     "metadata": {},
     "output_type": "execute_result"
    }
   ],
   "source": [
    "# 0. Expresiones aritmeticas y algebraicas\n",
    "1+2 -3*4 # aritmetica"
   ]
  },
  {
   "cell_type": "code",
   "execution_count": 2,
   "metadata": {},
   "outputs": [
    {
     "data": {
      "text/plain": [
       "8.5"
      ]
     },
     "execution_count": 2,
     "metadata": {},
     "output_type": "execute_result"
    }
   ],
   "source": [
    "var=2.5 \n",
    "var*2 + 3.5 #algebraica"
   ]
  },
  {
   "cell_type": "code",
   "execution_count": 3,
   "metadata": {},
   "outputs": [
    {
     "name": "stdout",
     "output_type": "stream",
     "text": [
      "7\n",
      "1.2999999999999998\n",
      "12.0\n",
      "2.3\n",
      "0\n",
      "16\n"
     ]
    }
   ],
   "source": [
    "# 1.1 Operadores aritmeticos\n",
    "print(5+2)\n",
    "print(2.3-1)\n",
    "print(2.4*5)\n",
    "print(4.6/2)\n",
    "print(4%2)\n",
    "print(4**2)"
   ]
  },
  {
   "cell_type": "code",
   "execution_count": 7,
   "metadata": {},
   "outputs": [
    {
     "name": "stdout",
     "output_type": "stream",
     "text": [
      "9.25\n"
     ]
    }
   ],
   "source": [
    "#1.2 operadores algebraicos\n",
    "var=2.5; var1=3.4\n",
    "print(2+4.3 +(var+var1)/2)"
   ]
  },
  {
   "cell_type": "code",
   "execution_count": 10,
   "metadata": {},
   "outputs": [
    {
     "data": {
      "text/plain": [
       "bool"
      ]
     },
     "execution_count": 10,
     "metadata": {},
     "output_type": "execute_result"
    }
   ],
   "source": [
    "var= False \n",
    "type(var)"
   ]
  },
  {
   "cell_type": "code",
   "execution_count": 23,
   "metadata": {},
   "outputs": [
    {
     "data": {
      "text/plain": [
       "[False, True, True, True, True]"
      ]
     },
     "execution_count": 23,
     "metadata": {},
     "output_type": "execute_result"
    }
   ],
   "source": [
    "expresiones = [\n",
    "False == True,\n",
    "10 >= 2*4,\n",
    "33.0/3 == 11,\n",
    "True > False,\n",
    "True*5 == 2.5*2\n",
    "]\n",
    "expresiones"
   ]
  },
  {
   "cell_type": "code",
   "execution_count": 11,
   "metadata": {},
   "outputs": [
    {
     "name": "stdout",
     "output_type": "stream",
     "text": [
      "True\n",
      "False\n"
     ]
    }
   ],
   "source": [
    "# 1.3 Operadores Logicos\n",
    "print(1<=2)\n",
    "print(1+1!=2)"
   ]
  },
  {
   "cell_type": "code",
   "execution_count": 12,
   "metadata": {},
   "outputs": [
    {
     "data": {
      "text/plain": [
       "True"
      ]
     },
     "execution_count": 12,
     "metadata": {},
     "output_type": "execute_result"
    }
   ],
   "source": [
    "1 + 3 == 8  - 4    #False --- True"
   ]
  },
  {
   "cell_type": "code",
   "execution_count": 13,
   "metadata": {},
   "outputs": [
    {
     "name": "stdout",
     "output_type": "stream",
     "text": [
      "True\n",
      "False\n",
      "False\n",
      "True\n",
      "True\n",
      "True\n"
     ]
    }
   ],
   "source": [
    "# 1.4 Operadores relacionales\n",
    "print(2==2)\n",
    "print(2!=2)\n",
    "print(4<3)\n",
    "print(4<=4)\n",
    "print(4>1)\n",
    "print(4>=1)"
   ]
  },
  {
   "cell_type": "code",
   "execution_count": 15,
   "metadata": {},
   "outputs": [
    {
     "name": "stdout",
     "output_type": "stream",
     "text": [
      "True\n"
     ]
    },
    {
     "data": {
      "text/plain": [
       "True"
      ]
     },
     "execution_count": 15,
     "metadata": {},
     "output_type": "execute_result"
    }
   ],
   "source": [
    "# Y con strings?\n",
    "print('David'=='David')\n",
    "a='Hola'\n",
    "a[0]=='H'"
   ]
  },
  {
   "cell_type": "code",
   "execution_count": 16,
   "metadata": {},
   "outputs": [
    {
     "name": "stdout",
     "output_type": "stream",
     "text": [
      "True\n",
      "False\n",
      "3\n",
      "5\n"
     ]
    }
   ],
   "source": [
    "# Y con booleanos\n",
    "print(True> False)\n",
    "print(True<=False)\n",
    "print(True*3)\n",
    "print(False+5)"
   ]
  },
  {
   "cell_type": "code",
   "execution_count": 43,
   "metadata": {},
   "outputs": [
    {
     "name": "stdout",
     "output_type": "stream",
     "text": [
      "[False, True, True, True, True]\n"
     ]
    }
   ],
   "source": [
    "# Desafio operadores relacionales\n",
    "expresiones=[False==True,\\\n",
    "            10>=2*4,\\\n",
    "            33/3==11,\\\n",
    "            True>False,\\\n",
    "            True*5==2.5*2]\n",
    "print(expresiones)"
   ]
  },
  {
   "attachments": {},
   "cell_type": "markdown",
   "metadata": {},
   "source": [
    "## Seccion 1.2"
   ]
  },
  {
   "cell_type": "code",
   "execution_count": 25,
   "metadata": {},
   "outputs": [
    {
     "name": "stdout",
     "output_type": "stream",
     "text": [
      "False\n",
      "True\n",
      "True\n",
      "True\n"
     ]
    }
   ],
   "source": [
    "# 1.5 Operadores logicos\n",
    "print(not True)\n",
    "print(not True== False)\n",
    "print(2>1 and 5>2)\n",
    "print(5<20 or 20<1)"
   ]
  },
  {
   "cell_type": "code",
   "execution_count": 58,
   "metadata": {},
   "outputs": [
    {
     "data": {
      "text/plain": [
       "True"
      ]
     },
     "execution_count": 58,
     "metadata": {},
     "output_type": "execute_result"
    }
   ],
   "source": [
    "(2>1) | (5>2)"
   ]
  },
  {
   "cell_type": "code",
   "execution_count": 26,
   "metadata": {},
   "outputs": [
    {
     "data": {
      "text/plain": [
       "True"
      ]
     },
     "execution_count": 26,
     "metadata": {},
     "output_type": "execute_result"
    }
   ],
   "source": [
    "2>1 and 5>2"
   ]
  },
  {
   "cell_type": "code",
   "execution_count": 12,
   "metadata": {},
   "outputs": [
    {
     "data": {
      "text/plain": [
       "[True, True, True, True, True, False]"
      ]
     },
     "execution_count": 12,
     "metadata": {},
     "output_type": "execute_result"
    }
   ],
   "source": [
    "# Desafio operadores logicos\n",
    "expresiones=[\n",
    "    not False, # True\n",
    "    not 3== 5, # True\n",
    "    33/3 ==11 and 5>2, # True\n",
    "    True or False, # True\n",
    "    True*5==2.5*2 or 123>=23, # True\n",
    "    12>7 and True< False # False\n",
    "]\n",
    "expresiones"
   ]
  },
  {
   "attachments": {},
   "cell_type": "markdown",
   "metadata": {},
   "source": [
    "# Seccion 2\n",
    "\n",
    "## Seccion 2.1"
   ]
  },
  {
   "cell_type": "code",
   "execution_count": 59,
   "metadata": {},
   "outputs": [
    {
     "data": {
      "text/plain": [
       "False"
      ]
     },
     "execution_count": 59,
     "metadata": {},
     "output_type": "execute_result"
    }
   ],
   "source": [
    "# 1.6 Operaciones anidadas\n",
    "''' \n",
    "1. Parentesis ()\n",
    "2. ** , log raiz\n",
    "3. /, *\n",
    "4. +,-\n",
    "'''\n",
    "a=15; b=12;\n",
    "a**b /3**a/a *b >=15 and not (a%b**2) !=0 # True and True= True"
   ]
  },
  {
   "cell_type": "code",
   "execution_count": 5,
   "metadata": {},
   "outputs": [
    {
     "name": "stdout",
     "output_type": "stream",
     "text": [
      "7233796.296296298\n",
      "15\n"
     ]
    }
   ],
   "source": [
    "print(a**b /3**a/a *b)\n",
    "print(a%b**2)"
   ]
  },
  {
   "cell_type": "code",
   "execution_count": 60,
   "metadata": {},
   "outputs": [
    {
     "name": "stdout",
     "output_type": "stream",
     "text": [
      "129746337890625\n",
      "14348907\n",
      "602816.3580246915\n",
      "7233796.296296298\n"
     ]
    }
   ],
   "source": [
    "# Porque da False? Aqui lo pueden ver mejor!!\n",
    "print(a**b)\n",
    "print(3**a)\n",
    "print(129746337890625/14348907/a) # a/b/c= a/ (b/c) = (a*c)/b\n",
    "print(602816.3580246915*b)"
   ]
  },
  {
   "cell_type": "code",
   "execution_count": 62,
   "metadata": {},
   "outputs": [
    {
     "data": {
      "text/plain": [
       "False"
      ]
     },
     "execution_count": 62,
     "metadata": {},
     "output_type": "execute_result"
    }
   ],
   "source": [
    "# Desafio operaciones anidadas\n",
    "nombre=input('Ingresa un nombre:')\n",
    "edad=int(input('Ingresa tu edad:'))\n",
    "nombre != '****' and edad >5 and edad <20 and len(nombre)>=4 and \\\n",
    "    len(nombre)<8 and edad*3 > 35"
   ]
  },
  {
   "attachments": {},
   "cell_type": "markdown",
   "metadata": {},
   "source": [
    "## Seccion 2.2"
   ]
  },
  {
   "cell_type": "code",
   "execution_count": 66,
   "metadata": {},
   "outputs": [
    {
     "data": {
      "text/plain": [
       "1.4142135623730951"
      ]
     },
     "execution_count": 66,
     "metadata": {},
     "output_type": "execute_result"
    }
   ],
   "source": [
    "import math \n",
    "math.sqrt(2)\n",
    "2**(1/2)"
   ]
  },
  {
   "cell_type": "code",
   "execution_count": 29,
   "metadata": {},
   "outputs": [
    {
     "name": "stdout",
     "output_type": "stream",
     "text": [
      "15\n"
     ]
    },
    {
     "data": {
      "text/plain": [
       "16"
      ]
     },
     "execution_count": 29,
     "metadata": {},
     "output_type": "execute_result"
    }
   ],
   "source": [
    "# Operadores de asignacion\n",
    "# Suma\n",
    "a=15\n",
    "print(a)\n",
    "a+=1\n",
    "a"
   ]
  },
  {
   "cell_type": "code",
   "execution_count": 30,
   "metadata": {},
   "outputs": [
    {
     "data": {
      "text/plain": [
       "10"
      ]
     },
     "execution_count": 30,
     "metadata": {},
     "output_type": "execute_result"
    }
   ],
   "source": [
    "# Resta\n",
    "a=15\n",
    "a-=5\n",
    "a"
   ]
  },
  {
   "cell_type": "code",
   "execution_count": 31,
   "metadata": {},
   "outputs": [
    {
     "data": {
      "text/plain": [
       "30"
      ]
     },
     "execution_count": 31,
     "metadata": {},
     "output_type": "execute_result"
    }
   ],
   "source": [
    "# Multiplicacion\n",
    "a=15\n",
    "a*=2\n",
    "a"
   ]
  },
  {
   "cell_type": "code",
   "execution_count": 32,
   "metadata": {},
   "outputs": [
    {
     "data": {
      "text/plain": [
       "2.0"
      ]
     },
     "execution_count": 32,
     "metadata": {},
     "output_type": "execute_result"
    }
   ],
   "source": [
    "# Division\n",
    "a=10\n",
    "a/=5\n",
    "a"
   ]
  },
  {
   "cell_type": "code",
   "execution_count": 33,
   "metadata": {},
   "outputs": [
    {
     "data": {
      "text/plain": [
       "0"
      ]
     },
     "execution_count": 33,
     "metadata": {},
     "output_type": "execute_result"
    }
   ],
   "source": [
    "# Modulo\n",
    "a=10\n",
    "a%=2\n",
    "a"
   ]
  },
  {
   "cell_type": "code",
   "execution_count": 34,
   "metadata": {},
   "outputs": [
    {
     "data": {
      "text/plain": [
       "25"
      ]
     },
     "execution_count": 34,
     "metadata": {},
     "output_type": "execute_result"
    }
   ],
   "source": [
    "# Exponenciacion\n",
    "a=5\n",
    "a**=2\n",
    "a"
   ]
  }
 ],
 "metadata": {
  "kernelspec": {
   "display_name": "Python 3 (ipykernel)",
   "language": "python",
   "name": "python3"
  },
  "language_info": {
   "codemirror_mode": {
    "name": "ipython",
    "version": 3
   },
   "file_extension": ".py",
   "mimetype": "text/x-python",
   "name": "python",
   "nbconvert_exporter": "python",
   "pygments_lexer": "ipython3",
   "version": "3.10.10"
  },
  "vscode": {
   "interpreter": {
    "hash": "8649ced70e2df50cbec1162fce5f764529cbe99dc753d77d52a836183a2bd877"
   }
  }
 },
 "nbformat": 4,
 "nbformat_minor": 2
}
