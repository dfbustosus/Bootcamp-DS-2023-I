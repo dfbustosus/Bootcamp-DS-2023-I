{
 "cells": [
  {
   "attachments": {},
   "cell_type": "markdown",
   "metadata": {},
   "source": [
    "# Ejemplo API sencilla"
   ]
  },
  {
   "attachments": {},
   "cell_type": "markdown",
   "metadata": {},
   "source": [
    "Pagina APIS publicas: https://github.com/public-apis/public-apis#finance\n",
    "\n",
    "Primer ejemplo: econdb"
   ]
  },
  {
   "attachments": {},
   "cell_type": "markdown",
   "metadata": {},
   "source": [
    "# Consumer Price index"
   ]
  },
  {
   "cell_type": "code",
   "execution_count": 1,
   "metadata": {},
   "outputs": [],
   "source": [
    "import pandas as pd\n",
    "\n",
    "API_TOKEN = '97c58ad355a11b2f37569e6c27e07a0fb88fa640'\n",
    "\n",
    "df = pd.read_csv(\n",
    "    'https://www.econdb.com/api/series/URATEUS/?token=%s&format=csv' % API_TOKEN,\n",
    "    index_col='Date', parse_dates=['Date'])"
   ]
  },
  {
   "cell_type": "code",
   "execution_count": 2,
   "metadata": {},
   "outputs": [
    {
     "data": {
      "text/html": [
       "<div>\n",
       "<style scoped>\n",
       "    .dataframe tbody tr th:only-of-type {\n",
       "        vertical-align: middle;\n",
       "    }\n",
       "\n",
       "    .dataframe tbody tr th {\n",
       "        vertical-align: top;\n",
       "    }\n",
       "\n",
       "    .dataframe thead th {\n",
       "        text-align: right;\n",
       "    }\n",
       "</style>\n",
       "<table border=\"1\" class=\"dataframe\">\n",
       "  <thead>\n",
       "    <tr style=\"text-align: right;\">\n",
       "      <th></th>\n",
       "      <th>URATEUS</th>\n",
       "    </tr>\n",
       "    <tr>\n",
       "      <th>Date</th>\n",
       "      <th></th>\n",
       "    </tr>\n",
       "  </thead>\n",
       "  <tbody>\n",
       "    <tr>\n",
       "      <th>1948-01-01</th>\n",
       "      <td>3.4</td>\n",
       "    </tr>\n",
       "    <tr>\n",
       "      <th>1948-02-01</th>\n",
       "      <td>3.8</td>\n",
       "    </tr>\n",
       "    <tr>\n",
       "      <th>1948-03-01</th>\n",
       "      <td>4.0</td>\n",
       "    </tr>\n",
       "    <tr>\n",
       "      <th>1948-04-01</th>\n",
       "      <td>3.9</td>\n",
       "    </tr>\n",
       "    <tr>\n",
       "      <th>1948-05-01</th>\n",
       "      <td>3.5</td>\n",
       "    </tr>\n",
       "    <tr>\n",
       "      <th>...</th>\n",
       "      <td>...</td>\n",
       "    </tr>\n",
       "    <tr>\n",
       "      <th>2022-11-01</th>\n",
       "      <td>3.6</td>\n",
       "    </tr>\n",
       "    <tr>\n",
       "      <th>2022-12-01</th>\n",
       "      <td>3.5</td>\n",
       "    </tr>\n",
       "    <tr>\n",
       "      <th>2023-01-01</th>\n",
       "      <td>3.4</td>\n",
       "    </tr>\n",
       "    <tr>\n",
       "      <th>2023-02-01</th>\n",
       "      <td>3.6</td>\n",
       "    </tr>\n",
       "    <tr>\n",
       "      <th>2023-03-01</th>\n",
       "      <td>3.5</td>\n",
       "    </tr>\n",
       "  </tbody>\n",
       "</table>\n",
       "<p>903 rows × 1 columns</p>\n",
       "</div>"
      ],
      "text/plain": [
       "            URATEUS\n",
       "Date               \n",
       "1948-01-01      3.4\n",
       "1948-02-01      3.8\n",
       "1948-03-01      4.0\n",
       "1948-04-01      3.9\n",
       "1948-05-01      3.5\n",
       "...             ...\n",
       "2022-11-01      3.6\n",
       "2022-12-01      3.5\n",
       "2023-01-01      3.4\n",
       "2023-02-01      3.6\n",
       "2023-03-01      3.5\n",
       "\n",
       "[903 rows x 1 columns]"
      ]
     },
     "execution_count": 2,
     "metadata": {},
     "output_type": "execute_result"
    }
   ],
   "source": [
    "df"
   ]
  },
  {
   "cell_type": "code",
   "execution_count": 3,
   "metadata": {},
   "outputs": [
    {
     "data": {
      "text/html": [
       "<div>\n",
       "<style scoped>\n",
       "    .dataframe tbody tr th:only-of-type {\n",
       "        vertical-align: middle;\n",
       "    }\n",
       "\n",
       "    .dataframe tbody tr th {\n",
       "        vertical-align: top;\n",
       "    }\n",
       "\n",
       "    .dataframe thead th {\n",
       "        text-align: right;\n",
       "    }\n",
       "</style>\n",
       "<table border=\"1\" class=\"dataframe\">\n",
       "  <thead>\n",
       "    <tr style=\"text-align: right;\">\n",
       "      <th></th>\n",
       "      <th>CPIUS</th>\n",
       "    </tr>\n",
       "    <tr>\n",
       "      <th>Date</th>\n",
       "      <th></th>\n",
       "    </tr>\n",
       "  </thead>\n",
       "  <tbody>\n",
       "    <tr>\n",
       "      <th>1947-01-01</th>\n",
       "      <td>21.48</td>\n",
       "    </tr>\n",
       "    <tr>\n",
       "      <th>1947-02-01</th>\n",
       "      <td>21.62</td>\n",
       "    </tr>\n",
       "    <tr>\n",
       "      <th>1947-03-01</th>\n",
       "      <td>22.00</td>\n",
       "    </tr>\n",
       "    <tr>\n",
       "      <th>1947-04-01</th>\n",
       "      <td>22.00</td>\n",
       "    </tr>\n",
       "    <tr>\n",
       "      <th>1947-05-01</th>\n",
       "      <td>21.95</td>\n",
       "    </tr>\n",
       "  </tbody>\n",
       "</table>\n",
       "</div>"
      ],
      "text/plain": [
       "            CPIUS\n",
       "Date             \n",
       "1947-01-01  21.48\n",
       "1947-02-01  21.62\n",
       "1947-03-01  22.00\n",
       "1947-04-01  22.00\n",
       "1947-05-01  21.95"
      ]
     },
     "execution_count": 3,
     "metadata": {},
     "output_type": "execute_result"
    }
   ],
   "source": [
    "import pandas as pd\n",
    "\n",
    "API_TOKEN = '9ef3a111f8a84eaf8fd190d66ff6f2dc271bf766'\n",
    "\n",
    "df = pd.read_csv(\n",
    "    'https://www.econdb.com/api/series/CPIUS/?token=%s&format=csv' % API_TOKEN,\n",
    "    index_col='Date', parse_dates=['Date'])\n",
    "df.head()"
   ]
  },
  {
   "cell_type": "code",
   "execution_count": 2,
   "metadata": {},
   "outputs": [
    {
     "data": {
      "text/html": [
       "<div>\n",
       "<style scoped>\n",
       "    .dataframe tbody tr th:only-of-type {\n",
       "        vertical-align: middle;\n",
       "    }\n",
       "\n",
       "    .dataframe tbody tr th {\n",
       "        vertical-align: top;\n",
       "    }\n",
       "\n",
       "    .dataframe thead th {\n",
       "        text-align: right;\n",
       "    }\n",
       "</style>\n",
       "<table border=\"1\" class=\"dataframe\">\n",
       "  <thead>\n",
       "    <tr style=\"text-align: right;\">\n",
       "      <th></th>\n",
       "      <th>URATEUS</th>\n",
       "    </tr>\n",
       "    <tr>\n",
       "      <th>Date</th>\n",
       "      <th></th>\n",
       "    </tr>\n",
       "  </thead>\n",
       "  <tbody>\n",
       "    <tr>\n",
       "      <th>2022-11-01</th>\n",
       "      <td>3.6</td>\n",
       "    </tr>\n",
       "    <tr>\n",
       "      <th>2022-12-01</th>\n",
       "      <td>3.5</td>\n",
       "    </tr>\n",
       "    <tr>\n",
       "      <th>2023-01-01</th>\n",
       "      <td>3.4</td>\n",
       "    </tr>\n",
       "    <tr>\n",
       "      <th>2023-02-01</th>\n",
       "      <td>3.6</td>\n",
       "    </tr>\n",
       "    <tr>\n",
       "      <th>2023-03-01</th>\n",
       "      <td>3.5</td>\n",
       "    </tr>\n",
       "  </tbody>\n",
       "</table>\n",
       "</div>"
      ],
      "text/plain": [
       "            URATEUS\n",
       "Date               \n",
       "2022-11-01      3.6\n",
       "2022-12-01      3.5\n",
       "2023-01-01      3.4\n",
       "2023-02-01      3.6\n",
       "2023-03-01      3.5"
      ]
     },
     "execution_count": 2,
     "metadata": {},
     "output_type": "execute_result"
    }
   ],
   "source": [
    "df.tail()"
   ]
  },
  {
   "cell_type": "code",
   "execution_count": 3,
   "metadata": {},
   "outputs": [
    {
     "data": {
      "text/plain": [
       "(903, 1)"
      ]
     },
     "execution_count": 3,
     "metadata": {},
     "output_type": "execute_result"
    }
   ],
   "source": [
    "df.shape"
   ]
  },
  {
   "cell_type": "code",
   "execution_count": 4,
   "metadata": {},
   "outputs": [
    {
     "data": {
      "text/html": [
       "<div>\n",
       "<style scoped>\n",
       "    .dataframe tbody tr th:only-of-type {\n",
       "        vertical-align: middle;\n",
       "    }\n",
       "\n",
       "    .dataframe tbody tr th {\n",
       "        vertical-align: top;\n",
       "    }\n",
       "\n",
       "    .dataframe thead th {\n",
       "        text-align: right;\n",
       "    }\n",
       "</style>\n",
       "<table border=\"1\" class=\"dataframe\">\n",
       "  <thead>\n",
       "    <tr style=\"text-align: right;\">\n",
       "      <th></th>\n",
       "      <th>Date</th>\n",
       "      <th>URATEUS</th>\n",
       "    </tr>\n",
       "  </thead>\n",
       "  <tbody>\n",
       "    <tr>\n",
       "      <th>0</th>\n",
       "      <td>1948-01-01</td>\n",
       "      <td>3.4</td>\n",
       "    </tr>\n",
       "    <tr>\n",
       "      <th>1</th>\n",
       "      <td>1948-02-01</td>\n",
       "      <td>3.8</td>\n",
       "    </tr>\n",
       "    <tr>\n",
       "      <th>2</th>\n",
       "      <td>1948-03-01</td>\n",
       "      <td>4.0</td>\n",
       "    </tr>\n",
       "    <tr>\n",
       "      <th>3</th>\n",
       "      <td>1948-04-01</td>\n",
       "      <td>3.9</td>\n",
       "    </tr>\n",
       "    <tr>\n",
       "      <th>4</th>\n",
       "      <td>1948-05-01</td>\n",
       "      <td>3.5</td>\n",
       "    </tr>\n",
       "  </tbody>\n",
       "</table>\n",
       "</div>"
      ],
      "text/plain": [
       "        Date  URATEUS\n",
       "0 1948-01-01      3.4\n",
       "1 1948-02-01      3.8\n",
       "2 1948-03-01      4.0\n",
       "3 1948-04-01      3.9\n",
       "4 1948-05-01      3.5"
      ]
     },
     "execution_count": 4,
     "metadata": {},
     "output_type": "execute_result"
    }
   ],
   "source": [
    "df=df.reset_index()\n",
    "df.head()"
   ]
  },
  {
   "attachments": {},
   "cell_type": "markdown",
   "metadata": {},
   "source": [
    "Crear en conexion de destino:\n",
    "\n",
    "```SQL\n",
    "create table cpi(\n",
    "Date date,\n",
    "CPIUS float\n",
    ");\n",
    "```"
   ]
  },
  {
   "attachments": {},
   "cell_type": "markdown",
   "metadata": {},
   "source": [
    "# Ejemplo API - transformacion"
   ]
  },
  {
   "attachments": {},
   "cell_type": "markdown",
   "metadata": {},
   "source": [
    "messari API: https://messari.io/api"
   ]
  },
  {
   "cell_type": "code",
   "execution_count": 4,
   "metadata": {},
   "outputs": [
    {
     "name": "stdout",
     "output_type": "stream",
     "text": [
      "\u001b[1;31mSignature:\u001b[0m \u001b[0mrequests\u001b[0m\u001b[1;33m.\u001b[0m\u001b[0mget\u001b[0m\u001b[1;33m(\u001b[0m\u001b[0murl\u001b[0m\u001b[1;33m,\u001b[0m \u001b[0mparams\u001b[0m\u001b[1;33m=\u001b[0m\u001b[1;32mNone\u001b[0m\u001b[1;33m,\u001b[0m \u001b[1;33m**\u001b[0m\u001b[0mkwargs\u001b[0m\u001b[1;33m)\u001b[0m\u001b[1;33m\u001b[0m\u001b[1;33m\u001b[0m\u001b[0m\n",
      "\u001b[1;31mDocstring:\u001b[0m\n",
      "Sends a GET request.\n",
      "\n",
      ":param url: URL for the new :class:`Request` object.\n",
      ":param params: (optional) Dictionary, list of tuples or bytes to send\n",
      "    in the query string for the :class:`Request`.\n",
      ":param \\*\\*kwargs: Optional arguments that ``request`` takes.\n",
      ":return: :class:`Response <Response>` object\n",
      ":rtype: requests.Response\n",
      "\u001b[1;31mFile:\u001b[0m      c:\\users\\windows\\appdata\\local\\packages\\pythonsoftwarefoundation.python.3.10_qbz5n2kfra8p0\\localcache\\local-packages\\python310\\site-packages\\requests\\api.py\n",
      "\u001b[1;31mType:\u001b[0m      function\n"
     ]
    }
   ],
   "source": [
    "import requests\n",
    "requests.get?"
   ]
  },
  {
   "cell_type": "code",
   "execution_count": 5,
   "metadata": {},
   "outputs": [
    {
     "name": "stdout",
     "output_type": "stream",
     "text": [
      "<Response [200]>\n"
     ]
    }
   ],
   "source": [
    "import requests\n",
    "import pandas as pd\n",
    "\n",
    "url = \"https://data.messari.io/api/v1/assets/bitcoin/metrics\"\n",
    "headers = {\"Accept-Encoding\": \"gzip, deflate\"}\n",
    "\n",
    "response = requests.get(url, headers=headers)\n",
    "print(response)\n",
    "data = response.json()\n",
    "\n",
    "#df = pd.DataFrame.from_dict(data['data']['market_data'], orient='index')\n",
    "#print(df)"
   ]
  },
  {
   "attachments": {},
   "cell_type": "markdown",
   "metadata": {},
   "source": [
    "El `Accept-Encoding` header se usa por el cliente (en el caso de Python) para indicar los formatos de codificación que puede entender en la respuesta. Luego, el servidor puede comprimir la respuesta utilizando uno de los formatos enumerados antes de enviarla de vuelta al cliente, lo que puede ahorrar ancho de banda y mejorar el rendimiento.\n",
    "\n",
    "En este caso, \"gzip\" y \"deflate\" son dos formatos de compresión populares que el cliente indica que puede manejar. El servidor puede optar por utilizar cualquiera de los formatos para comprimir la respuesta si los admite."
   ]
  },
  {
   "cell_type": "code",
   "execution_count": 7,
   "metadata": {},
   "outputs": [
    {
     "data": {
      "text/plain": [
       "dict_keys(['status', 'data'])"
      ]
     },
     "execution_count": 7,
     "metadata": {},
     "output_type": "execute_result"
    }
   ],
   "source": [
    "data.keys()"
   ]
  },
  {
   "cell_type": "code",
   "execution_count": 8,
   "metadata": {},
   "outputs": [
    {
     "data": {
      "text/plain": [
       "{'elapsed': 2, 'timestamp': '2023-05-09T01:20:27.853193597Z'}"
      ]
     },
     "execution_count": 8,
     "metadata": {},
     "output_type": "execute_result"
    }
   ],
   "source": [
    "data['status']"
   ]
  },
  {
   "cell_type": "code",
   "execution_count": 9,
   "metadata": {},
   "outputs": [
    {
     "data": {
      "text/plain": [
       "'2023-05-09T01:20:27.853193597Z'"
      ]
     },
     "execution_count": 9,
     "metadata": {},
     "output_type": "execute_result"
    }
   ],
   "source": [
    "data['status']['timestamp']"
   ]
  },
  {
   "cell_type": "code",
   "execution_count": 11,
   "metadata": {},
   "outputs": [
    {
     "data": {
      "text/plain": [
       "dict_keys(['id', 'serial_id', 'symbol', 'name', 'slug', 'contract_addresses', '_internal_temp_agora_id', 'market_data', 'marketcap', 'supply', 'blockchain_stats_24_hours', 'market_data_liquidity', 'all_time_high', 'cycle_low', 'token_sale_stats', 'mining_stats', 'developer_activity', 'roi_data', 'roi_by_year', 'risk_metrics', 'misc_data', 'reddit', 'on_chain_data', 'exchange_flows', 'miner_flows', 'supply_activity', 'supply_distribution', 'alert_messages'])"
      ]
     },
     "execution_count": 11,
     "metadata": {},
     "output_type": "execute_result"
    }
   ],
   "source": [
    "data['data'].keys()"
   ]
  },
  {
   "cell_type": "code",
   "execution_count": 13,
   "metadata": {},
   "outputs": [],
   "source": [
    "#datax = data['data']"
   ]
  },
  {
   "cell_type": "code",
   "execution_count": 12,
   "metadata": {},
   "outputs": [
    {
     "data": {
      "text/html": [
       "<div>\n",
       "<style scoped>\n",
       "    .dataframe tbody tr th:only-of-type {\n",
       "        vertical-align: middle;\n",
       "    }\n",
       "\n",
       "    .dataframe tbody tr th {\n",
       "        vertical-align: top;\n",
       "    }\n",
       "\n",
       "    .dataframe thead th {\n",
       "        text-align: right;\n",
       "    }\n",
       "</style>\n",
       "<table border=\"1\" class=\"dataframe\">\n",
       "  <thead>\n",
       "    <tr style=\"text-align: right;\">\n",
       "      <th></th>\n",
       "      <th>0</th>\n",
       "    </tr>\n",
       "  </thead>\n",
       "  <tbody>\n",
       "    <tr>\n",
       "      <th>id</th>\n",
       "      <td>1e31218a-e44e-4285-820c-8282ee222035</td>\n",
       "    </tr>\n",
       "    <tr>\n",
       "      <th>serial_id</th>\n",
       "      <td>6057</td>\n",
       "    </tr>\n",
       "    <tr>\n",
       "      <th>symbol</th>\n",
       "      <td>BTC</td>\n",
       "    </tr>\n",
       "    <tr>\n",
       "      <th>name</th>\n",
       "      <td>Bitcoin</td>\n",
       "    </tr>\n",
       "    <tr>\n",
       "      <th>slug</th>\n",
       "      <td>bitcoin</td>\n",
       "    </tr>\n",
       "    <tr>\n",
       "      <th>contract_addresses</th>\n",
       "      <td>None</td>\n",
       "    </tr>\n",
       "    <tr>\n",
       "      <th>_internal_temp_agora_id</th>\n",
       "      <td>9793eae6-f374-46b4-8764-c2d224429791</td>\n",
       "    </tr>\n",
       "    <tr>\n",
       "      <th>market_data</th>\n",
       "      <td>{'price_usd': 27687.79287514858, 'price_btc': ...</td>\n",
       "    </tr>\n",
       "    <tr>\n",
       "      <th>marketcap</th>\n",
       "      <td>{'rank': 1, 'marketcap_dominance_percent': 45....</td>\n",
       "    </tr>\n",
       "    <tr>\n",
       "      <th>supply</th>\n",
       "      <td>{'y_2050': 20986335.65, 'y_plus10': 20726060.7...</td>\n",
       "    </tr>\n",
       "    <tr>\n",
       "      <th>blockchain_stats_24_hours</th>\n",
       "      <td>{'count_of_active_addresses': 764917, 'transac...</td>\n",
       "    </tr>\n",
       "    <tr>\n",
       "      <th>market_data_liquidity</th>\n",
       "      <td>{'clearing_prices_to_sell': None, 'marketcap':...</td>\n",
       "    </tr>\n",
       "    <tr>\n",
       "      <th>all_time_high</th>\n",
       "      <td>{'price': 68753.85761733251, 'at': '2021-11-10...</td>\n",
       "    </tr>\n",
       "    <tr>\n",
       "      <th>cycle_low</th>\n",
       "      <td>{'price': 13701.040774823985, 'at': '2023-01-0...</td>\n",
       "    </tr>\n",
       "    <tr>\n",
       "      <th>token_sale_stats</th>\n",
       "      <td>{'sale_proceeds_usd': None, 'sale_start_date':...</td>\n",
       "    </tr>\n",
       "    <tr>\n",
       "      <th>mining_stats</th>\n",
       "      <td>{'mining_algo': 'SHA-256', 'network_hash_rate'...</td>\n",
       "    </tr>\n",
       "    <tr>\n",
       "      <th>developer_activity</th>\n",
       "      <td>{'stars': 69422, 'watchers': 3933, 'commits_la...</td>\n",
       "    </tr>\n",
       "    <tr>\n",
       "      <th>roi_data</th>\n",
       "      <td>{'percent_change_last_1_week': -3.335149814159...</td>\n",
       "    </tr>\n",
       "    <tr>\n",
       "      <th>roi_by_year</th>\n",
       "      <td>{'2021_usd_percent': 57.15628017931246, '2020_...</td>\n",
       "    </tr>\n",
       "    <tr>\n",
       "      <th>risk_metrics</th>\n",
       "      <td>{'sharpe_ratios': {'last_30_days': 0.208557446...</td>\n",
       "    </tr>\n",
       "    <tr>\n",
       "      <th>misc_data</th>\n",
       "      <td>{'private_market_price_usd': None, 'vladimir_c...</td>\n",
       "    </tr>\n",
       "    <tr>\n",
       "      <th>reddit</th>\n",
       "      <td>{'active_user_count': 7518, 'subscribers': 494...</td>\n",
       "    </tr>\n",
       "    <tr>\n",
       "      <th>on_chain_data</th>\n",
       "      <td>{'addresses_count': 46603791, 'active_addresse...</td>\n",
       "    </tr>\n",
       "    <tr>\n",
       "      <th>exchange_flows</th>\n",
       "      <td>{'flow_in_exchange_native_units': 8499.2409800...</td>\n",
       "    </tr>\n",
       "    <tr>\n",
       "      <th>miner_flows</th>\n",
       "      <td>{'supply_1hop_miners_usd': 72840923810.85977, ...</td>\n",
       "    </tr>\n",
       "    <tr>\n",
       "      <th>supply_activity</th>\n",
       "      <td>{'supply_active_10y': 16510209.80313621, 'supp...</td>\n",
       "    </tr>\n",
       "    <tr>\n",
       "      <th>supply_distribution</th>\n",
       "      <td>{'supply_in_addresses_balance_greater_0_001_na...</td>\n",
       "    </tr>\n",
       "    <tr>\n",
       "      <th>alert_messages</th>\n",
       "      <td>None</td>\n",
       "    </tr>\n",
       "  </tbody>\n",
       "</table>\n",
       "</div>"
      ],
      "text/plain": [
       "                                                                           0\n",
       "id                                      1e31218a-e44e-4285-820c-8282ee222035\n",
       "serial_id                                                               6057\n",
       "symbol                                                                   BTC\n",
       "name                                                                 Bitcoin\n",
       "slug                                                                 bitcoin\n",
       "contract_addresses                                                      None\n",
       "_internal_temp_agora_id                 9793eae6-f374-46b4-8764-c2d224429791\n",
       "market_data                {'price_usd': 27687.79287514858, 'price_btc': ...\n",
       "marketcap                  {'rank': 1, 'marketcap_dominance_percent': 45....\n",
       "supply                     {'y_2050': 20986335.65, 'y_plus10': 20726060.7...\n",
       "blockchain_stats_24_hours  {'count_of_active_addresses': 764917, 'transac...\n",
       "market_data_liquidity      {'clearing_prices_to_sell': None, 'marketcap':...\n",
       "all_time_high              {'price': 68753.85761733251, 'at': '2021-11-10...\n",
       "cycle_low                  {'price': 13701.040774823985, 'at': '2023-01-0...\n",
       "token_sale_stats           {'sale_proceeds_usd': None, 'sale_start_date':...\n",
       "mining_stats               {'mining_algo': 'SHA-256', 'network_hash_rate'...\n",
       "developer_activity         {'stars': 69422, 'watchers': 3933, 'commits_la...\n",
       "roi_data                   {'percent_change_last_1_week': -3.335149814159...\n",
       "roi_by_year                {'2021_usd_percent': 57.15628017931246, '2020_...\n",
       "risk_metrics               {'sharpe_ratios': {'last_30_days': 0.208557446...\n",
       "misc_data                  {'private_market_price_usd': None, 'vladimir_c...\n",
       "reddit                     {'active_user_count': 7518, 'subscribers': 494...\n",
       "on_chain_data              {'addresses_count': 46603791, 'active_addresse...\n",
       "exchange_flows             {'flow_in_exchange_native_units': 8499.2409800...\n",
       "miner_flows                {'supply_1hop_miners_usd': 72840923810.85977, ...\n",
       "supply_activity            {'supply_active_10y': 16510209.80313621, 'supp...\n",
       "supply_distribution        {'supply_in_addresses_balance_greater_0_001_na...\n",
       "alert_messages                                                          None"
      ]
     },
     "execution_count": 12,
     "metadata": {},
     "output_type": "execute_result"
    }
   ],
   "source": [
    "datax = data['data']\n",
    "dt = pd.DataFrame.from_dict(datax, orient='index')\n",
    "dt"
   ]
  },
  {
   "cell_type": "code",
   "execution_count": 15,
   "metadata": {},
   "outputs": [
    {
     "data": {
      "text/plain": [
       "{'mining_algo': 'SHA-256',\n",
       " 'network_hash_rate': '330951 PH/s',\n",
       " 'available_on_nicehash_percent': 0.0398494413622155,\n",
       " '1_hour_attack_cost': None,\n",
       " '24_hours_attack_cost': None,\n",
       " 'attack_appeal': None,\n",
       " 'hash_rate': 355568839.3482855,\n",
       " 'hash_rate_30d_average': 343548044.45848733,\n",
       " 'mining_revenue_per_hash_usd': 1.047359e-06,\n",
       " 'mining_revenue_per_hash_native_units': 3.6e-11,\n",
       " 'mining_revenue_per_hash_per_second_usd': 0.090491806174,\n",
       " 'mining_revenue_per_hash_per_second_native_units': 3.131263e-06,\n",
       " 'mining_revenue_from_fees_percent_last_24_hours': 16.3582506623,\n",
       " 'mining_revenue_native': 1113.37939172,\n",
       " 'mining_revenue_usd': 32176066.491725832,\n",
       " 'mining_revenue_total': 50372051144.17802,\n",
       " 'average_difficulty': 48005534313578.78}"
      ]
     },
     "execution_count": 15,
     "metadata": {},
     "output_type": "execute_result"
    }
   ],
   "source": [
    "dt.loc['mining_stats'][0]"
   ]
  },
  {
   "cell_type": "code",
   "execution_count": 19,
   "metadata": {},
   "outputs": [
    {
     "data": {
      "text/html": [
       "<div>\n",
       "<style scoped>\n",
       "    .dataframe tbody tr th:only-of-type {\n",
       "        vertical-align: middle;\n",
       "    }\n",
       "\n",
       "    .dataframe tbody tr th {\n",
       "        vertical-align: top;\n",
       "    }\n",
       "\n",
       "    .dataframe thead th {\n",
       "        text-align: right;\n",
       "    }\n",
       "</style>\n",
       "<table border=\"1\" class=\"dataframe\">\n",
       "  <thead>\n",
       "    <tr style=\"text-align: right;\">\n",
       "      <th></th>\n",
       "      <th>mining_algo</th>\n",
       "      <th>network_hash_rate</th>\n",
       "      <th>available_on_nicehash_percent</th>\n",
       "      <th>1_hour_attack_cost</th>\n",
       "      <th>24_hours_attack_cost</th>\n",
       "      <th>attack_appeal</th>\n",
       "      <th>hash_rate</th>\n",
       "      <th>hash_rate_30d_average</th>\n",
       "      <th>mining_revenue_per_hash_usd</th>\n",
       "      <th>mining_revenue_per_hash_native_units</th>\n",
       "      <th>mining_revenue_per_hash_per_second_usd</th>\n",
       "      <th>mining_revenue_per_hash_per_second_native_units</th>\n",
       "      <th>mining_revenue_from_fees_percent_last_24_hours</th>\n",
       "      <th>mining_revenue_native</th>\n",
       "      <th>mining_revenue_usd</th>\n",
       "      <th>mining_revenue_total</th>\n",
       "      <th>average_difficulty</th>\n",
       "      <th>Date</th>\n",
       "    </tr>\n",
       "  </thead>\n",
       "  <tbody>\n",
       "    <tr>\n",
       "      <th>0</th>\n",
       "      <td>SHA-256</td>\n",
       "      <td>330951 PH/s</td>\n",
       "      <td>0.039849</td>\n",
       "      <td>None</td>\n",
       "      <td>None</td>\n",
       "      <td>None</td>\n",
       "      <td>355568839.348285</td>\n",
       "      <td>343548044.458487</td>\n",
       "      <td>0.000001</td>\n",
       "      <td>0.0</td>\n",
       "      <td>0.090492</td>\n",
       "      <td>0.000003</td>\n",
       "      <td>16.358251</td>\n",
       "      <td>1113.379392</td>\n",
       "      <td>32176066.491726</td>\n",
       "      <td>50372051144.178017</td>\n",
       "      <td>48005534313578.78125</td>\n",
       "      <td>2023-05-09T01:20:27.853193597Z</td>\n",
       "    </tr>\n",
       "  </tbody>\n",
       "</table>\n",
       "</div>"
      ],
      "text/plain": [
       "  mining_algo network_hash_rate available_on_nicehash_percent  \\\n",
       "0     SHA-256       330951 PH/s                      0.039849   \n",
       "\n",
       "  1_hour_attack_cost 24_hours_attack_cost attack_appeal         hash_rate  \\\n",
       "0               None                 None          None  355568839.348285   \n",
       "\n",
       "  hash_rate_30d_average mining_revenue_per_hash_usd  \\\n",
       "0      343548044.458487                    0.000001   \n",
       "\n",
       "  mining_revenue_per_hash_native_units mining_revenue_per_hash_per_second_usd  \\\n",
       "0                                  0.0                               0.090492   \n",
       "\n",
       "  mining_revenue_per_hash_per_second_native_units  \\\n",
       "0                                        0.000003   \n",
       "\n",
       "  mining_revenue_from_fees_percent_last_24_hours mining_revenue_native  \\\n",
       "0                                      16.358251           1113.379392   \n",
       "\n",
       "  mining_revenue_usd mining_revenue_total    average_difficulty  \\\n",
       "0    32176066.491726   50372051144.178017  48005534313578.78125   \n",
       "\n",
       "                             Date  \n",
       "0  2023-05-09T01:20:27.853193597Z  "
      ]
     },
     "execution_count": 19,
     "metadata": {},
     "output_type": "execute_result"
    }
   ],
   "source": [
    "extract=dt.loc['mining_stats'][0]\n",
    "e = pd.DataFrame.from_dict(extract, orient='index', columns=['value']).transpose().reset_index(drop=True)\n",
    "e['Date'] = data['status']['timestamp']\n",
    "e"
   ]
  },
  {
   "cell_type": "code",
   "execution_count": 20,
   "metadata": {},
   "outputs": [
    {
     "name": "stdout",
     "output_type": "stream",
     "text": [
      "Index(['mining_algo', 'network_hash_rate', 'available_on_nicehash_percent',\n",
      "       '1_hour_attack_cost', '24_hours_attack_cost', 'attack_appeal',\n",
      "       'hash_rate', 'hash_rate_30d_average', 'mining_revenue_per_hash_usd',\n",
      "       'mining_revenue_per_hash_native_units',\n",
      "       'mining_revenue_per_hash_per_second_usd',\n",
      "       'mining_revenue_per_hash_per_second_native_units',\n",
      "       'mining_revenue_from_fees_percent_last_24_hours',\n",
      "       'mining_revenue_native', 'mining_revenue_usd', 'mining_revenue_total',\n",
      "       'average_difficulty', 'Date'],\n",
      "      dtype='object')\n"
     ]
    }
   ],
   "source": [
    "print(e.columns)"
   ]
  }
 ],
 "metadata": {
  "kernelspec": {
   "display_name": "Python 3",
   "language": "python",
   "name": "python3"
  },
  "language_info": {
   "codemirror_mode": {
    "name": "ipython",
    "version": 3
   },
   "file_extension": ".py",
   "mimetype": "text/x-python",
   "name": "python",
   "nbconvert_exporter": "python",
   "pygments_lexer": "ipython3",
   "version": "3.10.11"
  },
  "orig_nbformat": 4
 },
 "nbformat": 4,
 "nbformat_minor": 2
}
