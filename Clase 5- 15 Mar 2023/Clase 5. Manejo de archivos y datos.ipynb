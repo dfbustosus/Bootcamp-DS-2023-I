{
 "cells": [
  {
   "cell_type": "code",
   "execution_count": null,
   "metadata": {},
   "outputs": [],
   "source": [
    "\"\"\"\n",
    "from google.colab import drive\n",
    "import os\n",
    "drive.mount('/content/gdrive')\n",
    "# Establecer ruta de acceso en drive\n",
    "os.chdir(\"/content/gdrive/My Drive\")\n",
    "\"\"\""
   ]
  },
  {
   "cell_type": "code",
   "execution_count": 4,
   "metadata": {},
   "outputs": [
    {
     "data": {
      "text/plain": [
       "'c:\\\\Users\\\\Windows\\\\Desktop\\\\Curso Python Coder\\\\Clase 8'"
      ]
     },
     "execution_count": 4,
     "metadata": {},
     "output_type": "execute_result"
    }
   ],
   "source": [
    "%pwd"
   ]
  },
  {
   "cell_type": "code",
   "execution_count": 2,
   "metadata": {},
   "outputs": [],
   "source": [
    "# 1. Escritura\n",
    "ruta='C:/Users/Windows/Desktop/Curso Python Coder/Clase 8/'\n",
    "f=open(ruta+'/archivo.txt','w') # El archivo (nombre) que quieres guardar\n",
    "f.write('Esto es un texto') # Texto que voy a escribir\n",
    "f.close() # Cerrar el archivo"
   ]
  },
  {
   "cell_type": "code",
   "execution_count": 5,
   "metadata": {},
   "outputs": [],
   "source": [
    "nombre='Nicolas'\n",
    "apellido='Perez'\n",
    "dni=111111\n",
    "d={'NOMBRE':nombre, 'APELLIDO':apellido,'DNI':dni}\n",
    "f=open(ruta+'/otro.txt','w')\n",
    "f.write(d['NOMBRE']+\",\"+d['APELLIDO']+','+str(d['DNI']))\n",
    "f.close()"
   ]
  },
  {
   "cell_type": "code",
   "execution_count": 4,
   "metadata": {},
   "outputs": [],
   "source": [
    "# Desafio generico\n",
    "lista=[]\n",
    "for i in range(3):\n",
    "    var= input(f'Ingresa tu hobbie favorito {i}: ')\n",
    "    lista.append(var)\n",
    "texto='\\n'.join(lista)\n",
    "f=open(ruta+'/miHobbiesFavoritos.txt','w')\n",
    "f.write(texto)\n",
    "f.close()"
   ]
  },
  {
   "cell_type": "code",
   "execution_count": 5,
   "metadata": {},
   "outputs": [
    {
     "name": "stdout",
     "output_type": "stream",
     "text": [
      "Ingresa el nombre de tu mascota:Ringo\n",
      "Ingresa la edad de tu mascota:10\n"
     ]
    }
   ],
   "source": [
    "# Desafio (Otro)\n",
    "nombre=input('Ingresa el nombre de tu mascota:')\n",
    "edad=input('Ingresa la edad de tu mascota:')\n",
    "d={'NOMBRE':nombre, 'EDAD':edad}\n",
    "ruta='C:/Users/Windows/Desktop/Curso Python Coder/Clase 8/'\n",
    "f=open(ruta+'/miMascota.txt','w')\n",
    "f.write(d['NOMBRE']+','+d['EDAD'])\n",
    "f.close()"
   ]
  },
  {
   "cell_type": "code",
   "execution_count": 12,
   "metadata": {},
   "outputs": [
    {
     "name": "stdout",
     "output_type": "stream",
     "text": [
      "soy el primer renglon\n",
      "ahora soy el 2do renglon\n",
      "no sé ni que soy\n",
      "acá hay otro renglon\n",
      "soy el 5\n"
     ]
    }
   ],
   "source": [
    "#2. Lectura\n",
    "ruta='C:/Users/Windows/Desktop/Curso Python Coder/Clase 8/'\n",
    "f=open(ruta+'/paraLeer.txt','r',encoding='utf-8')\n",
    "content=f.read()\n",
    "print(content)\n",
    "f.close()"
   ]
  },
  {
   "cell_type": "code",
   "execution_count": 13,
   "metadata": {},
   "outputs": [
    {
     "name": "stdout",
     "output_type": "stream",
     "text": [
      "soy el primer renglon\n",
      "\n"
     ]
    }
   ],
   "source": [
    "ruta='C:/Users/Windows/Desktop/Curso Python Coder/Clase 8/'\n",
    "f=open(ruta+'/paraLeer.txt','r',encoding='utf-8')\n",
    "print(f.readline())\n",
    "f.close()"
   ]
  },
  {
   "cell_type": "code",
   "execution_count": 14,
   "metadata": {},
   "outputs": [
    {
     "name": "stdout",
     "output_type": "stream",
     "text": [
      "soy el primer renglon\n",
      "\n",
      "ahora soy el 2do renglon\n",
      "\n",
      "no sé ni que soy\n",
      "\n",
      "acá hay otro renglon\n",
      "\n",
      "soy el 5\n"
     ]
    }
   ],
   "source": [
    "ruta='C:/Users/Windows/Desktop/Curso Python Coder/Clase 8/'\n",
    "f=open(ruta+'/paraLeer.txt','r',encoding='utf-8')\n",
    "for line in f.readlines():\n",
    "    print(line)\n",
    "f.close()"
   ]
  },
  {
   "cell_type": "code",
   "execution_count": 15,
   "metadata": {},
   "outputs": [
    {
     "name": "stdout",
     "output_type": "stream",
     "text": [
      "n\n",
      "ahora soy el 2do renglon\n",
      "no sé ni que soy\n",
      "acá hay otro renglon\n",
      "soy el 5\n"
     ]
    }
   ],
   "source": [
    "ruta='C:/Users/Windows/Desktop/Curso Python Coder/Clase 8/'\n",
    "f=open(ruta+'/paraLeer.txt','r',encoding='utf-8')\n",
    "f.seek(20)\n",
    "print(f.read())\n",
    "f.close()"
   ]
  },
  {
   "cell_type": "code",
   "execution_count": 8,
   "metadata": {},
   "outputs": [
    {
     "data": {
      "text/plain": [
       "{'clients': [{'first_name': 'Sigrid',\n",
       "   'last_name': 'Marnock',\n",
       "   'age': 22,\n",
       "   'amount': 7.17},\n",
       "  {'first_name': 'Jose',\n",
       "   'last_name': 'Hinners',\n",
       "   'age': 31,\n",
       "   'amount': [1.9, 5.5]},\n",
       "  {'first_name': 'Theodoric',\n",
       "   'last_name': 'Rivers',\n",
       "   'age': 36,\n",
       "   'amount': 1.11}]}"
      ]
     },
     "execution_count": 8,
     "metadata": {},
     "output_type": "execute_result"
    }
   ],
   "source": [
    "#3. archivos json\n",
    "# Escritura\n",
    "import json\n",
    "data={}\n",
    "data['clients']=[]\n",
    "data['clients'].append({\n",
    "    'first_name':'Sigrid',\n",
    "    'last_name':'Marnock',\n",
    "    'age':22, 'amount':7.17\n",
    "})\n",
    "data['clients'].append({\n",
    "    'first_name':'Jose',\n",
    "    'last_name':'Hinners',\n",
    "    'age':31, 'amount':[1.90,5.50]\n",
    "})\n",
    "data['clients'].append({\n",
    "    'first_name':'Theodoric',\n",
    "    'last_name':'Rivers',\n",
    "    'age':36, 'amount':1.11\n",
    "})\n",
    "data"
   ]
  },
  {
   "cell_type": "code",
   "execution_count": 20,
   "metadata": {},
   "outputs": [],
   "source": [
    "with open(ruta+'/primerJson.json','w') as file:\n",
    "    json.dump(data, file,indent=4)"
   ]
  },
  {
   "cell_type": "code",
   "execution_count": 7,
   "metadata": {},
   "outputs": [
    {
     "name": "stdout",
     "output_type": "stream",
     "text": [
      "\u001b[1;31mSignature:\u001b[0m\n",
      "\u001b[0mjson\u001b[0m\u001b[1;33m.\u001b[0m\u001b[0mdump\u001b[0m\u001b[1;33m(\u001b[0m\u001b[1;33m\n",
      "\u001b[0m    \u001b[0mobj\u001b[0m\u001b[1;33m,\u001b[0m\u001b[1;33m\n",
      "\u001b[0m    \u001b[0mfp\u001b[0m\u001b[1;33m,\u001b[0m\u001b[1;33m\n",
      "\u001b[0m    \u001b[1;33m*\u001b[0m\u001b[1;33m,\u001b[0m\u001b[1;33m\n",
      "\u001b[0m    \u001b[0mskipkeys\u001b[0m\u001b[1;33m=\u001b[0m\u001b[1;32mFalse\u001b[0m\u001b[1;33m,\u001b[0m\u001b[1;33m\n",
      "\u001b[0m    \u001b[0mensure_ascii\u001b[0m\u001b[1;33m=\u001b[0m\u001b[1;32mTrue\u001b[0m\u001b[1;33m,\u001b[0m\u001b[1;33m\n",
      "\u001b[0m    \u001b[0mcheck_circular\u001b[0m\u001b[1;33m=\u001b[0m\u001b[1;32mTrue\u001b[0m\u001b[1;33m,\u001b[0m\u001b[1;33m\n",
      "\u001b[0m    \u001b[0mallow_nan\u001b[0m\u001b[1;33m=\u001b[0m\u001b[1;32mTrue\u001b[0m\u001b[1;33m,\u001b[0m\u001b[1;33m\n",
      "\u001b[0m    \u001b[0mcls\u001b[0m\u001b[1;33m=\u001b[0m\u001b[1;32mNone\u001b[0m\u001b[1;33m,\u001b[0m\u001b[1;33m\n",
      "\u001b[0m    \u001b[0mindent\u001b[0m\u001b[1;33m=\u001b[0m\u001b[1;32mNone\u001b[0m\u001b[1;33m,\u001b[0m\u001b[1;33m\n",
      "\u001b[0m    \u001b[0mseparators\u001b[0m\u001b[1;33m=\u001b[0m\u001b[1;32mNone\u001b[0m\u001b[1;33m,\u001b[0m\u001b[1;33m\n",
      "\u001b[0m    \u001b[0mdefault\u001b[0m\u001b[1;33m=\u001b[0m\u001b[1;32mNone\u001b[0m\u001b[1;33m,\u001b[0m\u001b[1;33m\n",
      "\u001b[0m    \u001b[0msort_keys\u001b[0m\u001b[1;33m=\u001b[0m\u001b[1;32mFalse\u001b[0m\u001b[1;33m,\u001b[0m\u001b[1;33m\n",
      "\u001b[0m    \u001b[1;33m**\u001b[0m\u001b[0mkw\u001b[0m\u001b[1;33m,\u001b[0m\u001b[1;33m\n",
      "\u001b[0m\u001b[1;33m)\u001b[0m\u001b[1;33m\u001b[0m\u001b[1;33m\u001b[0m\u001b[0m\n",
      "\u001b[1;31mDocstring:\u001b[0m\n",
      "Serialize ``obj`` as a JSON formatted stream to ``fp`` (a\n",
      "``.write()``-supporting file-like object).\n",
      "\n",
      "If ``skipkeys`` is true then ``dict`` keys that are not basic types\n",
      "(``str``, ``int``, ``float``, ``bool``, ``None``) will be skipped\n",
      "instead of raising a ``TypeError``.\n",
      "\n",
      "If ``ensure_ascii`` is false, then the strings written to ``fp`` can\n",
      "contain non-ASCII characters if they appear in strings contained in\n",
      "``obj``. Otherwise, all such characters are escaped in JSON strings.\n",
      "\n",
      "If ``check_circular`` is false, then the circular reference check\n",
      "for container types will be skipped and a circular reference will\n",
      "result in an ``RecursionError`` (or worse).\n",
      "\n",
      "If ``allow_nan`` is false, then it will be a ``ValueError`` to\n",
      "serialize out of range ``float`` values (``nan``, ``inf``, ``-inf``)\n",
      "in strict compliance of the JSON specification, instead of using the\n",
      "JavaScript equivalents (``NaN``, ``Infinity``, ``-Infinity``).\n",
      "\n",
      "If ``indent`` is a non-negative integer, then JSON array elements and\n",
      "object members will be pretty-printed with that indent level. An indent\n",
      "level of 0 will only insert newlines. ``None`` is the most compact\n",
      "representation.\n",
      "\n",
      "If specified, ``separators`` should be an ``(item_separator, key_separator)``\n",
      "tuple.  The default is ``(', ', ': ')`` if *indent* is ``None`` and\n",
      "``(',', ': ')`` otherwise.  To get the most compact JSON representation,\n",
      "you should specify ``(',', ':')`` to eliminate whitespace.\n",
      "\n",
      "``default(obj)`` is a function that should return a serializable version\n",
      "of obj or raise TypeError. The default simply raises TypeError.\n",
      "\n",
      "If *sort_keys* is true (default: ``False``), then the output of\n",
      "dictionaries will be sorted by key.\n",
      "\n",
      "To use a custom ``JSONEncoder`` subclass (e.g. one that overrides the\n",
      "``.default()`` method to serialize additional types), specify it with\n",
      "the ``cls`` kwarg; otherwise ``JSONEncoder`` is used.\n",
      "\u001b[1;31mFile:\u001b[0m      c:\\program files\\windowsapps\\pythonsoftwarefoundation.python.3.10_3.10.2800.0_x64__qbz5n2kfra8p0\\lib\\json\\__init__.py\n",
      "\u001b[1;31mType:\u001b[0m      function\n"
     ]
    }
   ],
   "source": [
    "import json\n",
    "json.dump?"
   ]
  },
  {
   "cell_type": "code",
   "execution_count": 22,
   "metadata": {},
   "outputs": [],
   "source": [
    "with open(ruta+'/primerJson.json') as file:\n",
    "    dataLectura=json.load(file)"
   ]
  },
  {
   "cell_type": "code",
   "execution_count": 24,
   "metadata": {},
   "outputs": [
    {
     "name": "stdout",
     "output_type": "stream",
     "text": [
      "First name Sigrid\n",
      "Last name: Marnock\n",
      "Age: 22\n",
      "Amount: 7.17\n",
      "\n",
      "First name Jose\n",
      "Last name: Hinners\n",
      "Age: 31\n",
      "Amount: [1.9, 5.5]\n",
      "\n",
      "First name Theodoric\n",
      "Last name: Rivers\n",
      "Age: 36\n",
      "Amount: 1.11\n",
      "\n"
     ]
    }
   ],
   "source": [
    "# Lectura\n",
    "with open(ruta+'/primerJson.json') as file:\n",
    "    dataLectura=json.load(file)\n",
    "    for client in dataLectura['clients']:\n",
    "        print('First name', client['first_name'])\n",
    "        print('Last name:', client['last_name'])\n",
    "        print('Age:', client['age'])\n",
    "        print('Amount:',client['amount'])\n",
    "        print('')"
   ]
  },
  {
   "cell_type": "code",
   "execution_count": 12,
   "metadata": {},
   "outputs": [
    {
     "data": {
      "text/plain": [
       "{'clients': [{'first_name': 'Sigrid',\n",
       "   'last_name': 'Marnock',\n",
       "   'age': 22,\n",
       "   'amount': 7.17},\n",
       "  {'first_name': 'Jose',\n",
       "   'last_name': 'Hinners',\n",
       "   'age': 31,\n",
       "   'amount': [1.9, 5.5]},\n",
       "  {'first_name': 'Theodoric',\n",
       "   'last_name': 'Rivers',\n",
       "   'age': 36,\n",
       "   'amount': 1.11}]}"
      ]
     },
     "execution_count": 12,
     "metadata": {},
     "output_type": "execute_result"
    }
   ],
   "source": [
    "dataLectura"
   ]
  },
  {
   "cell_type": "code",
   "execution_count": 25,
   "metadata": {
    "scrolled": true
   },
   "outputs": [
    {
     "name": "stdout",
     "output_type": "stream",
     "text": [
      "Requirement already satisfied: pandas in c:\\users\\windows\\appdata\\local\\packages\\pythonsoftwarefoundation.python.3.10_qbz5n2kfra8p0\\localcache\\local-packages\\python310\\site-packages (1.5.1)\n",
      "Requirement already satisfied: python-dateutil>=2.8.1 in c:\\users\\windows\\appdata\\local\\packages\\pythonsoftwarefoundation.python.3.10_qbz5n2kfra8p0\\localcache\\local-packages\\python310\\site-packages (from pandas) (2.8.2)\n",
      "Requirement already satisfied: pytz>=2020.1 in c:\\users\\windows\\appdata\\local\\packages\\pythonsoftwarefoundation.python.3.10_qbz5n2kfra8p0\\localcache\\local-packages\\python310\\site-packages (from pandas) (2022.5)\n",
      "Requirement already satisfied: numpy>=1.21.0 in c:\\users\\windows\\appdata\\local\\packages\\pythonsoftwarefoundation.python.3.10_qbz5n2kfra8p0\\localcache\\local-packages\\python310\\site-packages (from pandas) (1.23.4)\n",
      "Requirement already satisfied: six>=1.5 in c:\\users\\windows\\appdata\\local\\packages\\pythonsoftwarefoundation.python.3.10_qbz5n2kfra8p0\\localcache\\local-packages\\python310\\site-packages (from python-dateutil>=2.8.1->pandas) (1.16.0)\n",
      "Requirement already satisfied: numpy in c:\\users\\windows\\appdata\\local\\packages\\pythonsoftwarefoundation.python.3.10_qbz5n2kfra8p0\\localcache\\local-packages\\python310\\site-packages (1.23.4)\n"
     ]
    }
   ],
   "source": [
    "!pip install pandas\n",
    "!pip install numpy"
   ]
  },
  {
   "cell_type": "code",
   "execution_count": null,
   "metadata": {},
   "outputs": [],
   "source": [
    "#Con esto daremos permisos para acceder al Drive, es importante colocar el codigo de verificacion correspondiente \n",
    "#from google.colab import drive\n",
    "#import pandas as pd  #Importamos pandas para la lectura de datos"
   ]
  },
  {
   "cell_type": "code",
   "execution_count": 10,
   "metadata": {},
   "outputs": [],
   "source": [
    "import numpy as np"
   ]
  },
  {
   "cell_type": "code",
   "execution_count": 11,
   "metadata": {},
   "outputs": [
    {
     "name": "stdout",
     "output_type": "stream",
     "text": [
      "Name: numpy\n",
      "Version: 1.23.4\n",
      "Summary: NumPy is the fundamental package for array computing with Python.\n",
      "Home-page: https://www.numpy.org\n",
      "Author: Travis E. Oliphant et al.\n",
      "Author-email: \n",
      "License: BSD\n",
      "Location: c:\\users\\windows\\appdata\\local\\packages\\pythonsoftwarefoundation.python.3.10_qbz5n2kfra8p0\\localcache\\local-packages\\python310\\site-packages\n",
      "Requires: \n",
      "Required-by: blis, bokeh, contourpy, h5py, imageio, matplotlib, missingno, neuspell, numba, opencv-python, opt-einsum, pandas, pytorch-pretrained-bert, PyWavelets, rasa-nlu, scikit-image, scikit-learn, scipy, seaborn, spacy, tensorboard, thinc, tifffile, torchvision, transformers, umap-learn, wordcloud\n"
     ]
    }
   ],
   "source": [
    "!pip show numpy"
   ]
  },
  {
   "cell_type": "code",
   "execution_count": null,
   "metadata": {},
   "outputs": [],
   "source": [
    "import pandas as pd\n",
    "import numpy as np \n",
    "variableTurnos=pd.read_csv(ruta+'/dataset_total_vacunas.csv')\n",
    "variableTurnos"
   ]
  },
  {
   "cell_type": "code",
   "execution_count": 27,
   "metadata": {},
   "outputs": [
    {
     "data": {
      "text/plain": [
       "pandas.core.frame.DataFrame"
      ]
     },
     "execution_count": 27,
     "metadata": {},
     "output_type": "execute_result"
    }
   ],
   "source": [
    "type(variableTurnos)"
   ]
  },
  {
   "cell_type": "code",
   "execution_count": 33,
   "metadata": {},
   "outputs": [
    {
     "data": {
      "text/html": [
       "<div>\n",
       "<style scoped>\n",
       "    .dataframe tbody tr th:only-of-type {\n",
       "        vertical-align: middle;\n",
       "    }\n",
       "\n",
       "    .dataframe tbody tr th {\n",
       "        vertical-align: top;\n",
       "    }\n",
       "\n",
       "    .dataframe thead th {\n",
       "        text-align: right;\n",
       "    }\n",
       "</style>\n",
       "<table border=\"1\" class=\"dataframe\">\n",
       "  <thead>\n",
       "    <tr style=\"text-align: right;\">\n",
       "      <th></th>\n",
       "      <th>FECHA_ADMINISTRACION</th>\n",
       "      <th>GRUPO_ETARIO</th>\n",
       "      <th>GENERO</th>\n",
       "      <th>VACUNA</th>\n",
       "      <th>TIPO_EFECTOR</th>\n",
       "      <th>DOSIS_1</th>\n",
       "      <th>DOSIS_2</th>\n",
       "      <th>ID_CARGA</th>\n",
       "      <th>DOSIS_3</th>\n",
       "    </tr>\n",
       "  </thead>\n",
       "  <tbody>\n",
       "    <tr>\n",
       "      <th>0</th>\n",
       "      <td>15JAN2021:00:00:00</td>\n",
       "      <td>41 a 50</td>\n",
       "      <td>F</td>\n",
       "      <td>Sputnik</td>\n",
       "      <td>Privado</td>\n",
       "      <td>164</td>\n",
       "      <td>0</td>\n",
       "      <td>NaN</td>\n",
       "      <td>0.0</td>\n",
       "    </tr>\n",
       "    <tr>\n",
       "      <th>1</th>\n",
       "      <td>15JAN2021:00:00:00</td>\n",
       "      <td>41 a 50</td>\n",
       "      <td>F</td>\n",
       "      <td>Sputnik</td>\n",
       "      <td>Público</td>\n",
       "      <td>396</td>\n",
       "      <td>0</td>\n",
       "      <td>NaN</td>\n",
       "      <td>0.0</td>\n",
       "    </tr>\n",
       "    <tr>\n",
       "      <th>2</th>\n",
       "      <td>15JAN2021:00:00:00</td>\n",
       "      <td>41 a 50</td>\n",
       "      <td>F</td>\n",
       "      <td>Sputnik</td>\n",
       "      <td>Público nacional</td>\n",
       "      <td>51</td>\n",
       "      <td>0</td>\n",
       "      <td>NaN</td>\n",
       "      <td>0.0</td>\n",
       "    </tr>\n",
       "    <tr>\n",
       "      <th>3</th>\n",
       "      <td>15JAN2021:00:00:00</td>\n",
       "      <td>41 a 50</td>\n",
       "      <td>M</td>\n",
       "      <td>Sputnik</td>\n",
       "      <td>Privado</td>\n",
       "      <td>95</td>\n",
       "      <td>0</td>\n",
       "      <td>NaN</td>\n",
       "      <td>0.0</td>\n",
       "    </tr>\n",
       "  </tbody>\n",
       "</table>\n",
       "</div>"
      ],
      "text/plain": [
       "  FECHA_ADMINISTRACION GRUPO_ETARIO GENERO   VACUNA      TIPO_EFECTOR  \\\n",
       "0   15JAN2021:00:00:00      41 a 50      F  Sputnik           Privado   \n",
       "1   15JAN2021:00:00:00      41 a 50      F  Sputnik           Público   \n",
       "2   15JAN2021:00:00:00      41 a 50      F  Sputnik  Público nacional   \n",
       "3   15JAN2021:00:00:00      41 a 50      M  Sputnik           Privado   \n",
       "\n",
       "   DOSIS_1  DOSIS_2  ID_CARGA  DOSIS_3  \n",
       "0      164        0       NaN      0.0  \n",
       "1      396        0       NaN      0.0  \n",
       "2       51        0       NaN      0.0  \n",
       "3       95        0       NaN      0.0  "
      ]
     },
     "execution_count": 33,
     "metadata": {},
     "output_type": "execute_result"
    }
   ],
   "source": [
    "variableTurnos.head(4)"
   ]
  },
  {
   "cell_type": "code",
   "execution_count": 35,
   "metadata": {},
   "outputs": [
    {
     "data": {
      "text/html": [
       "<div>\n",
       "<style scoped>\n",
       "    .dataframe tbody tr th:only-of-type {\n",
       "        vertical-align: middle;\n",
       "    }\n",
       "\n",
       "    .dataframe tbody tr th {\n",
       "        vertical-align: top;\n",
       "    }\n",
       "\n",
       "    .dataframe thead th {\n",
       "        text-align: right;\n",
       "    }\n",
       "</style>\n",
       "<table border=\"1\" class=\"dataframe\">\n",
       "  <thead>\n",
       "    <tr style=\"text-align: right;\">\n",
       "      <th></th>\n",
       "      <th>FECHA_ADMINISTRACION</th>\n",
       "      <th>GRUPO_ETARIO</th>\n",
       "      <th>GENERO</th>\n",
       "      <th>VACUNA</th>\n",
       "      <th>TIPO_EFECTOR</th>\n",
       "      <th>DOSIS_1</th>\n",
       "      <th>DOSIS_2</th>\n",
       "      <th>ID_CARGA</th>\n",
       "      <th>DOSIS_3</th>\n",
       "    </tr>\n",
       "  </thead>\n",
       "  <tbody>\n",
       "    <tr>\n",
       "      <th>45120</th>\n",
       "      <td>27FEB2023:00:00:00</td>\n",
       "      <td>31 a 40</td>\n",
       "      <td>M</td>\n",
       "      <td>vacuna Coronavirus (PFIZER) Bivalente, vial x ...</td>\n",
       "      <td>Público</td>\n",
       "      <td>0</td>\n",
       "      <td>0</td>\n",
       "      <td>NaN</td>\n",
       "      <td>7.0</td>\n",
       "    </tr>\n",
       "    <tr>\n",
       "      <th>45121</th>\n",
       "      <td>27FEB2023:00:00:00</td>\n",
       "      <td>41 a 50</td>\n",
       "      <td>F</td>\n",
       "      <td>Moderna</td>\n",
       "      <td>Público</td>\n",
       "      <td>1</td>\n",
       "      <td>3</td>\n",
       "      <td>NaN</td>\n",
       "      <td>4.0</td>\n",
       "    </tr>\n",
       "  </tbody>\n",
       "</table>\n",
       "</div>"
      ],
      "text/plain": [
       "      FECHA_ADMINISTRACION GRUPO_ETARIO GENERO  \\\n",
       "45120   27FEB2023:00:00:00      31 a 40      M   \n",
       "45121   27FEB2023:00:00:00      41 a 50      F   \n",
       "\n",
       "                                                  VACUNA TIPO_EFECTOR  \\\n",
       "45120  vacuna Coronavirus (PFIZER) Bivalente, vial x ...      Público   \n",
       "45121                                            Moderna      Público   \n",
       "\n",
       "       DOSIS_1  DOSIS_2  ID_CARGA  DOSIS_3  \n",
       "45120        0        0       NaN      7.0  \n",
       "45121        1        3       NaN      4.0  "
      ]
     },
     "execution_count": 35,
     "metadata": {},
     "output_type": "execute_result"
    }
   ],
   "source": [
    "variableTurnos.tail(2)"
   ]
  },
  {
   "cell_type": "code",
   "execution_count": 39,
   "metadata": {},
   "outputs": [
    {
     "data": {
      "text/plain": [
       "F    23330\n",
       "M    21680\n",
       "N      112\n",
       "Name: GENERO, dtype: int64"
      ]
     },
     "execution_count": 39,
     "metadata": {},
     "output_type": "execute_result"
    }
   ],
   "source": [
    "variableTurnos['GENERO'].value_counts()"
   ]
  },
  {
   "cell_type": "code",
   "execution_count": 44,
   "metadata": {},
   "outputs": [],
   "source": [
    "df_M=variableTurnos[variableTurnos['GENERO']=='M']\n",
    "df_M.to_csv(ruta+ 'Archivo_David.csv',sep=',')"
   ]
  },
  {
   "cell_type": "code",
   "execution_count": 13,
   "metadata": {},
   "outputs": [
    {
     "data": {
      "text/html": [
       "<div>\n",
       "<style scoped>\n",
       "    .dataframe tbody tr th:only-of-type {\n",
       "        vertical-align: middle;\n",
       "    }\n",
       "\n",
       "    .dataframe tbody tr th {\n",
       "        vertical-align: top;\n",
       "    }\n",
       "\n",
       "    .dataframe thead th {\n",
       "        text-align: right;\n",
       "    }\n",
       "</style>\n",
       "<table border=\"1\" class=\"dataframe\">\n",
       "  <thead>\n",
       "    <tr style=\"text-align: right;\">\n",
       "      <th></th>\n",
       "      <th>genero</th>\n",
       "      <th>sede</th>\n",
       "      <th>servicio</th>\n",
       "      <th>fecha_cita</th>\n",
       "    </tr>\n",
       "  </thead>\n",
       "  <tbody>\n",
       "    <tr>\n",
       "      <th>0</th>\n",
       "      <td>MASCULINO</td>\n",
       "      <td>Centro Islámico</td>\n",
       "      <td>Adultos Mayores de 80 años</td>\n",
       "      <td>01MAR2021:11:15:00</td>\n",
       "    </tr>\n",
       "    <tr>\n",
       "      <th>1</th>\n",
       "      <td>MASCULINO</td>\n",
       "      <td>Club Ferro</td>\n",
       "      <td>Adultos Mayores de 80 años</td>\n",
       "      <td>02MAR2021:09:00:00</td>\n",
       "    </tr>\n",
       "    <tr>\n",
       "      <th>2</th>\n",
       "      <td>FEMENINO</td>\n",
       "      <td>La Rural</td>\n",
       "      <td>Adultos Mayores de 80 años</td>\n",
       "      <td>01MAR2021:13:30:00</td>\n",
       "    </tr>\n",
       "    <tr>\n",
       "      <th>3</th>\n",
       "      <td>MASCULINO</td>\n",
       "      <td>Centro de día Parque Chacabuco</td>\n",
       "      <td>Adultos Mayores de 80 años</td>\n",
       "      <td>25FEB2021:13:00:00</td>\n",
       "    </tr>\n",
       "    <tr>\n",
       "      <th>4</th>\n",
       "      <td>FEMENINO</td>\n",
       "      <td>Centro C. Recoleta</td>\n",
       "      <td>Adultos Mayores de 80 años</td>\n",
       "      <td>01MAR2021:13:30:00</td>\n",
       "    </tr>\n",
       "  </tbody>\n",
       "</table>\n",
       "</div>"
      ],
      "text/plain": [
       "      genero                            sede                    servicio  \\\n",
       "0  MASCULINO                 Centro Islámico  Adultos Mayores de 80 años   \n",
       "1  MASCULINO                      Club Ferro  Adultos Mayores de 80 años   \n",
       "2   FEMENINO                        La Rural  Adultos Mayores de 80 años   \n",
       "3  MASCULINO  Centro de día Parque Chacabuco  Adultos Mayores de 80 años   \n",
       "4   FEMENINO              Centro C. Recoleta  Adultos Mayores de 80 años   \n",
       "\n",
       "           fecha_cita  \n",
       "0  01MAR2021:11:15:00  \n",
       "1  02MAR2021:09:00:00  \n",
       "2  01MAR2021:13:30:00  \n",
       "3  25FEB2021:13:00:00  \n",
       "4  01MAR2021:13:30:00  "
      ]
     },
     "execution_count": 13,
     "metadata": {},
     "output_type": "execute_result"
    }
   ],
   "source": [
    "#from google.colab import drive\n",
    "import pandas as pd \n",
    "import numpy as np \n",
    "variableTurnos=pd.read_csv(ruta+'/dataset_turnos_detalle.csv')\n",
    "variableTurnos.head()"
   ]
  },
  {
   "cell_type": "code",
   "execution_count": 14,
   "metadata": {},
   "outputs": [
    {
     "data": {
      "text/html": [
       "<div>\n",
       "<style scoped>\n",
       "    .dataframe tbody tr th:only-of-type {\n",
       "        vertical-align: middle;\n",
       "    }\n",
       "\n",
       "    .dataframe tbody tr th {\n",
       "        vertical-align: top;\n",
       "    }\n",
       "\n",
       "    .dataframe thead th {\n",
       "        text-align: right;\n",
       "    }\n",
       "</style>\n",
       "<table border=\"1\" class=\"dataframe\">\n",
       "  <thead>\n",
       "    <tr style=\"text-align: right;\">\n",
       "      <th></th>\n",
       "      <th>genero</th>\n",
       "      <th>sede</th>\n",
       "      <th>servicio</th>\n",
       "      <th>fecha_cita</th>\n",
       "    </tr>\n",
       "  </thead>\n",
       "  <tbody>\n",
       "    <tr>\n",
       "      <th>0</th>\n",
       "      <td>MASCULINO</td>\n",
       "      <td>Centro Islámico</td>\n",
       "      <td>Adultos Mayores de 80 años</td>\n",
       "      <td>01MAR2021:11:15:00</td>\n",
       "    </tr>\n",
       "    <tr>\n",
       "      <th>1</th>\n",
       "      <td>MASCULINO</td>\n",
       "      <td>Club Ferro</td>\n",
       "      <td>Adultos Mayores de 80 años</td>\n",
       "      <td>02MAR2021:09:00:00</td>\n",
       "    </tr>\n",
       "    <tr>\n",
       "      <th>2</th>\n",
       "      <td>FEMENINO</td>\n",
       "      <td>La Rural</td>\n",
       "      <td>Adultos Mayores de 80 años</td>\n",
       "      <td>01MAR2021:13:30:00</td>\n",
       "    </tr>\n",
       "  </tbody>\n",
       "</table>\n",
       "</div>"
      ],
      "text/plain": [
       "      genero             sede                    servicio          fecha_cita\n",
       "0  MASCULINO  Centro Islámico  Adultos Mayores de 80 años  01MAR2021:11:15:00\n",
       "1  MASCULINO       Club Ferro  Adultos Mayores de 80 años  02MAR2021:09:00:00\n",
       "2   FEMENINO         La Rural  Adultos Mayores de 80 años  01MAR2021:13:30:00"
      ]
     },
     "execution_count": 14,
     "metadata": {},
     "output_type": "execute_result"
    }
   ],
   "source": [
    "variableTurnos.head(3)"
   ]
  },
  {
   "cell_type": "code",
   "execution_count": 15,
   "metadata": {},
   "outputs": [
    {
     "data": {
      "text/html": [
       "<div>\n",
       "<style scoped>\n",
       "    .dataframe tbody tr th:only-of-type {\n",
       "        vertical-align: middle;\n",
       "    }\n",
       "\n",
       "    .dataframe tbody tr th {\n",
       "        vertical-align: top;\n",
       "    }\n",
       "\n",
       "    .dataframe thead th {\n",
       "        text-align: right;\n",
       "    }\n",
       "</style>\n",
       "<table border=\"1\" class=\"dataframe\">\n",
       "  <thead>\n",
       "    <tr style=\"text-align: right;\">\n",
       "      <th></th>\n",
       "      <th>genero</th>\n",
       "      <th>sede</th>\n",
       "      <th>servicio</th>\n",
       "      <th>fecha_cita</th>\n",
       "    </tr>\n",
       "  </thead>\n",
       "  <tbody>\n",
       "    <tr>\n",
       "      <th>1925040</th>\n",
       "      <td>FEMENINO</td>\n",
       "      <td>Casa del Historiador</td>\n",
       "      <td>Adultos Mayores de 80 años</td>\n",
       "      <td>23FEB2021:15:45:00</td>\n",
       "    </tr>\n",
       "    <tr>\n",
       "      <th>1925041</th>\n",
       "      <td>MASCULINO</td>\n",
       "      <td>La Rural</td>\n",
       "      <td>Adultos Mayores de 80 años</td>\n",
       "      <td>02MAR2021:15:00:00</td>\n",
       "    </tr>\n",
       "    <tr>\n",
       "      <th>1925042</th>\n",
       "      <td>FEMENINO</td>\n",
       "      <td>Club Glorias Argentinas</td>\n",
       "      <td>Adultos Mayores de 80 años</td>\n",
       "      <td>25FEB2021:13:30:00</td>\n",
       "    </tr>\n",
       "    <tr>\n",
       "      <th>1925043</th>\n",
       "      <td>MASCULINO</td>\n",
       "      <td>Centro de Dia N9 y 13</td>\n",
       "      <td>Adultos Mayores de 80 años</td>\n",
       "      <td>25FEB2021:08:15:00</td>\n",
       "    </tr>\n",
       "    <tr>\n",
       "      <th>1925044</th>\n",
       "      <td>FEMENINO</td>\n",
       "      <td>Club San Lorenzo</td>\n",
       "      <td>Adultos Mayores de 80 años</td>\n",
       "      <td>26FEB2021:11:30:00</td>\n",
       "    </tr>\n",
       "  </tbody>\n",
       "</table>\n",
       "</div>"
      ],
      "text/plain": [
       "            genero                     sede                    servicio  \\\n",
       "1925040   FEMENINO     Casa del Historiador  Adultos Mayores de 80 años   \n",
       "1925041  MASCULINO                 La Rural  Adultos Mayores de 80 años   \n",
       "1925042   FEMENINO  Club Glorias Argentinas  Adultos Mayores de 80 años   \n",
       "1925043  MASCULINO    Centro de Dia N9 y 13  Adultos Mayores de 80 años   \n",
       "1925044   FEMENINO         Club San Lorenzo  Adultos Mayores de 80 años   \n",
       "\n",
       "                 fecha_cita  \n",
       "1925040  23FEB2021:15:45:00  \n",
       "1925041  02MAR2021:15:00:00  \n",
       "1925042  25FEB2021:13:30:00  \n",
       "1925043  25FEB2021:08:15:00  \n",
       "1925044  26FEB2021:11:30:00  "
      ]
     },
     "execution_count": 15,
     "metadata": {},
     "output_type": "execute_result"
    }
   ],
   "source": [
    "variableTurnos.tail()"
   ]
  },
  {
   "cell_type": "code",
   "execution_count": 28,
   "metadata": {},
   "outputs": [
    {
     "data": {
      "text/html": [
       "<div>\n",
       "<style scoped>\n",
       "    .dataframe tbody tr th:only-of-type {\n",
       "        vertical-align: middle;\n",
       "    }\n",
       "\n",
       "    .dataframe tbody tr th {\n",
       "        vertical-align: top;\n",
       "    }\n",
       "\n",
       "    .dataframe thead th {\n",
       "        text-align: right;\n",
       "    }\n",
       "</style>\n",
       "<table border=\"1\" class=\"dataframe\">\n",
       "  <thead>\n",
       "    <tr style=\"text-align: right;\">\n",
       "      <th></th>\n",
       "      <th>genero</th>\n",
       "      <th>sede</th>\n",
       "      <th>servicio</th>\n",
       "      <th>fecha_cita</th>\n",
       "    </tr>\n",
       "  </thead>\n",
       "  <tbody>\n",
       "    <tr>\n",
       "      <th>1342360</th>\n",
       "      <td>FEMENINO</td>\n",
       "      <td>Centro Islámico</td>\n",
       "      <td>Adultos Mayores de 18 años</td>\n",
       "      <td>17JUN2021:12:15:00</td>\n",
       "    </tr>\n",
       "    <tr>\n",
       "      <th>144913</th>\n",
       "      <td>FEMENINO</td>\n",
       "      <td>Movistar Arena</td>\n",
       "      <td>Personal de Salud</td>\n",
       "      <td>18MAR2021:12:30:00</td>\n",
       "    </tr>\n",
       "    <tr>\n",
       "      <th>1134830</th>\n",
       "      <td>FEMENINO</td>\n",
       "      <td>Corralón Floresta</td>\n",
       "      <td>Docentes y No Docentes</td>\n",
       "      <td>08JUN2021:08:45:00</td>\n",
       "    </tr>\n",
       "  </tbody>\n",
       "</table>\n",
       "</div>"
      ],
      "text/plain": [
       "           genero               sede                    servicio  \\\n",
       "1342360  FEMENINO    Centro Islámico  Adultos Mayores de 18 años   \n",
       "144913   FEMENINO     Movistar Arena           Personal de Salud   \n",
       "1134830  FEMENINO  Corralón Floresta      Docentes y No Docentes   \n",
       "\n",
       "                 fecha_cita  \n",
       "1342360  17JUN2021:12:15:00  \n",
       "144913   18MAR2021:12:30:00  \n",
       "1134830  08JUN2021:08:45:00  "
      ]
     },
     "execution_count": 28,
     "metadata": {},
     "output_type": "execute_result"
    }
   ],
   "source": [
    "variableTurnos.sample(3)"
   ]
  },
  {
   "cell_type": "code",
   "execution_count": 29,
   "metadata": {},
   "outputs": [
    {
     "data": {
      "text/plain": [
       "Club San Lorenzo     264616\n",
       "La Rural             215748\n",
       "Estadio Luna Park    196126\n",
       "Parque Roca          181980\n",
       "Club River Plate     142751\n",
       "Name: sede, dtype: int64"
      ]
     },
     "execution_count": 29,
     "metadata": {},
     "output_type": "execute_result"
    }
   ],
   "source": [
    "variableTurnos['sede'].value_counts()[0:5]"
   ]
  },
  {
   "cell_type": "code",
   "execution_count": 30,
   "metadata": {},
   "outputs": [
    {
     "data": {
      "text/html": [
       "<div>\n",
       "<style scoped>\n",
       "    .dataframe tbody tr th:only-of-type {\n",
       "        vertical-align: middle;\n",
       "    }\n",
       "\n",
       "    .dataframe tbody tr th {\n",
       "        vertical-align: top;\n",
       "    }\n",
       "\n",
       "    .dataframe thead th {\n",
       "        text-align: right;\n",
       "    }\n",
       "</style>\n",
       "<table border=\"1\" class=\"dataframe\">\n",
       "  <thead>\n",
       "    <tr style=\"text-align: right;\">\n",
       "      <th></th>\n",
       "      <th>genero</th>\n",
       "      <th>sede</th>\n",
       "      <th>servicio</th>\n",
       "      <th>fecha_cita</th>\n",
       "    </tr>\n",
       "  </thead>\n",
       "  <tbody>\n",
       "    <tr>\n",
       "      <th>count</th>\n",
       "      <td>1925045</td>\n",
       "      <td>1925045</td>\n",
       "      <td>1925045</td>\n",
       "      <td>1925045</td>\n",
       "    </tr>\n",
       "    <tr>\n",
       "      <th>unique</th>\n",
       "      <td>3</td>\n",
       "      <td>50</td>\n",
       "      <td>16</td>\n",
       "      <td>5698</td>\n",
       "    </tr>\n",
       "    <tr>\n",
       "      <th>top</th>\n",
       "      <td>FEMENINO</td>\n",
       "      <td>Club San Lorenzo</td>\n",
       "      <td>Adultos Mayores de 18 años</td>\n",
       "      <td>28JUN2021:10:00:00</td>\n",
       "    </tr>\n",
       "    <tr>\n",
       "      <th>freq</th>\n",
       "      <td>1127425</td>\n",
       "      <td>264616</td>\n",
       "      <td>608162</td>\n",
       "      <td>1201</td>\n",
       "    </tr>\n",
       "  </tbody>\n",
       "</table>\n",
       "</div>"
      ],
      "text/plain": [
       "          genero              sede                    servicio  \\\n",
       "count    1925045           1925045                     1925045   \n",
       "unique         3                50                          16   \n",
       "top     FEMENINO  Club San Lorenzo  Adultos Mayores de 18 años   \n",
       "freq     1127425            264616                      608162   \n",
       "\n",
       "                fecha_cita  \n",
       "count              1925045  \n",
       "unique                5698  \n",
       "top     28JUN2021:10:00:00  \n",
       "freq                  1201  "
      ]
     },
     "execution_count": 30,
     "metadata": {},
     "output_type": "execute_result"
    }
   ],
   "source": [
    "variableTurnos.describe()"
   ]
  },
  {
   "cell_type": "code",
   "execution_count": 31,
   "metadata": {},
   "outputs": [
    {
     "name": "stdout",
     "output_type": "stream",
     "text": [
      "<class 'pandas.core.frame.DataFrame'>\n",
      "RangeIndex: 1925045 entries, 0 to 1925044\n",
      "Data columns (total 4 columns):\n",
      " #   Column      Dtype \n",
      "---  ------      ----- \n",
      " 0   genero      object\n",
      " 1   sede        object\n",
      " 2   servicio    object\n",
      " 3   fecha_cita  object\n",
      "dtypes: object(4)\n",
      "memory usage: 58.7+ MB\n"
     ]
    }
   ],
   "source": [
    "variableTurnos.info()"
   ]
  },
  {
   "cell_type": "code",
   "execution_count": 32,
   "metadata": {},
   "outputs": [
    {
     "data": {
      "text/plain": [
       "genero        object\n",
       "sede          object\n",
       "servicio      object\n",
       "fecha_cita    object\n",
       "dtype: object"
      ]
     },
     "execution_count": 32,
     "metadata": {},
     "output_type": "execute_result"
    }
   ],
   "source": [
    "variableTurnos.dtypes"
   ]
  },
  {
   "cell_type": "code",
   "execution_count": 33,
   "metadata": {},
   "outputs": [
    {
     "data": {
      "text/plain": [
       "genero        0\n",
       "sede          0\n",
       "servicio      0\n",
       "fecha_cita    0\n",
       "dtype: int64"
      ]
     },
     "execution_count": 33,
     "metadata": {},
     "output_type": "execute_result"
    }
   ],
   "source": [
    "variableTurnos.isnull().sum()"
   ]
  },
  {
   "cell_type": "code",
   "execution_count": 34,
   "metadata": {},
   "outputs": [
    {
     "data": {
      "text/plain": [
       "Index(['genero', 'sede', 'servicio', 'fecha_cita'], dtype='object')"
      ]
     },
     "execution_count": 34,
     "metadata": {},
     "output_type": "execute_result"
    }
   ],
   "source": [
    "variableTurnos.columns"
   ]
  },
  {
   "cell_type": "code",
   "execution_count": 35,
   "metadata": {},
   "outputs": [
    {
     "data": {
      "text/plain": [
       "(1925045, 4)"
      ]
     },
     "execution_count": 35,
     "metadata": {},
     "output_type": "execute_result"
    }
   ],
   "source": [
    "variableTurnos.shape"
   ]
  },
  {
   "cell_type": "code",
   "execution_count": 36,
   "metadata": {},
   "outputs": [
    {
     "data": {
      "text/plain": [
       "array(['MASCULINO', 'FEMENINO', 'OTROS'], dtype=object)"
      ]
     },
     "execution_count": 36,
     "metadata": {},
     "output_type": "execute_result"
    }
   ],
   "source": [
    "variableTurnos['genero'].unique()"
   ]
  },
  {
   "cell_type": "code",
   "execution_count": 37,
   "metadata": {},
   "outputs": [
    {
     "data": {
      "text/html": [
       "<div>\n",
       "<style scoped>\n",
       "    .dataframe tbody tr th:only-of-type {\n",
       "        vertical-align: middle;\n",
       "    }\n",
       "\n",
       "    .dataframe tbody tr th {\n",
       "        vertical-align: top;\n",
       "    }\n",
       "\n",
       "    .dataframe thead th {\n",
       "        text-align: right;\n",
       "    }\n",
       "</style>\n",
       "<table border=\"1\" class=\"dataframe\">\n",
       "  <thead>\n",
       "    <tr style=\"text-align: right;\">\n",
       "      <th></th>\n",
       "      <th>sede</th>\n",
       "      <th>servicio</th>\n",
       "    </tr>\n",
       "  </thead>\n",
       "  <tbody>\n",
       "    <tr>\n",
       "      <th>0</th>\n",
       "      <td>Centro Islámico</td>\n",
       "      <td>Adultos Mayores de 80 años</td>\n",
       "    </tr>\n",
       "    <tr>\n",
       "      <th>1</th>\n",
       "      <td>Club Ferro</td>\n",
       "      <td>Adultos Mayores de 80 años</td>\n",
       "    </tr>\n",
       "    <tr>\n",
       "      <th>3</th>\n",
       "      <td>Centro de día Parque Chacabuco</td>\n",
       "      <td>Adultos Mayores de 80 años</td>\n",
       "    </tr>\n",
       "    <tr>\n",
       "      <th>5</th>\n",
       "      <td>Centro C. Recoleta</td>\n",
       "      <td>Adultos Mayores de 80 años</td>\n",
       "    </tr>\n",
       "    <tr>\n",
       "      <th>10</th>\n",
       "      <td>Centro Cultural El Adan</td>\n",
       "      <td>Adultos Mayores de 80 años</td>\n",
       "    </tr>\n",
       "    <tr>\n",
       "      <th>...</th>\n",
       "      <td>...</td>\n",
       "      <td>...</td>\n",
       "    </tr>\n",
       "    <tr>\n",
       "      <th>1925034</th>\n",
       "      <td>Club Comunicaciones</td>\n",
       "      <td>Adultos Mayores de 80 años</td>\n",
       "    </tr>\n",
       "    <tr>\n",
       "      <th>1925036</th>\n",
       "      <td>Centro Cultural El Adan</td>\n",
       "      <td>Adultos Mayores de 80 años</td>\n",
       "    </tr>\n",
       "    <tr>\n",
       "      <th>1925038</th>\n",
       "      <td>Usina del Arte</td>\n",
       "      <td>Adultos Mayores de 80 años</td>\n",
       "    </tr>\n",
       "    <tr>\n",
       "      <th>1925041</th>\n",
       "      <td>La Rural</td>\n",
       "      <td>Adultos Mayores de 80 años</td>\n",
       "    </tr>\n",
       "    <tr>\n",
       "      <th>1925043</th>\n",
       "      <td>Centro de Dia N9 y 13</td>\n",
       "      <td>Adultos Mayores de 80 años</td>\n",
       "    </tr>\n",
       "  </tbody>\n",
       "</table>\n",
       "<p>789670 rows × 2 columns</p>\n",
       "</div>"
      ],
      "text/plain": [
       "                                   sede                    servicio\n",
       "0                       Centro Islámico  Adultos Mayores de 80 años\n",
       "1                            Club Ferro  Adultos Mayores de 80 años\n",
       "3        Centro de día Parque Chacabuco  Adultos Mayores de 80 años\n",
       "5                    Centro C. Recoleta  Adultos Mayores de 80 años\n",
       "10              Centro Cultural El Adan  Adultos Mayores de 80 años\n",
       "...                                 ...                         ...\n",
       "1925034             Club Comunicaciones  Adultos Mayores de 80 años\n",
       "1925036         Centro Cultural El Adan  Adultos Mayores de 80 años\n",
       "1925038                  Usina del Arte  Adultos Mayores de 80 años\n",
       "1925041                        La Rural  Adultos Mayores de 80 años\n",
       "1925043           Centro de Dia N9 y 13  Adultos Mayores de 80 años\n",
       "\n",
       "[789670 rows x 2 columns]"
      ]
     },
     "execution_count": 37,
     "metadata": {},
     "output_type": "execute_result"
    }
   ],
   "source": [
    "# Filtros\n",
    "variableTurnos.loc[variableTurnos['genero']=='MASCULINO',['sede','servicio']]"
   ]
  },
  {
   "cell_type": "code",
   "execution_count": 40,
   "metadata": {},
   "outputs": [
    {
     "data": {
      "text/html": [
       "<div>\n",
       "<style scoped>\n",
       "    .dataframe tbody tr th:only-of-type {\n",
       "        vertical-align: middle;\n",
       "    }\n",
       "\n",
       "    .dataframe tbody tr th {\n",
       "        vertical-align: top;\n",
       "    }\n",
       "\n",
       "    .dataframe thead th {\n",
       "        text-align: right;\n",
       "    }\n",
       "</style>\n",
       "<table border=\"1\" class=\"dataframe\">\n",
       "  <thead>\n",
       "    <tr style=\"text-align: right;\">\n",
       "      <th></th>\n",
       "      <th>sede</th>\n",
       "      <th>servicio</th>\n",
       "    </tr>\n",
       "  </thead>\n",
       "  <tbody>\n",
       "    <tr>\n",
       "      <th>0</th>\n",
       "      <td>Centro Islámico</td>\n",
       "      <td>Adultos Mayores de 80 años</td>\n",
       "    </tr>\n",
       "    <tr>\n",
       "      <th>1</th>\n",
       "      <td>Club Ferro</td>\n",
       "      <td>Adultos Mayores de 80 años</td>\n",
       "    </tr>\n",
       "    <tr>\n",
       "      <th>3</th>\n",
       "      <td>Centro de día Parque Chacabuco</td>\n",
       "      <td>Adultos Mayores de 80 años</td>\n",
       "    </tr>\n",
       "    <tr>\n",
       "      <th>5</th>\n",
       "      <td>Centro C. Recoleta</td>\n",
       "      <td>Adultos Mayores de 80 años</td>\n",
       "    </tr>\n",
       "    <tr>\n",
       "      <th>10</th>\n",
       "      <td>Centro Cultural El Adan</td>\n",
       "      <td>Adultos Mayores de 80 años</td>\n",
       "    </tr>\n",
       "    <tr>\n",
       "      <th>...</th>\n",
       "      <td>...</td>\n",
       "      <td>...</td>\n",
       "    </tr>\n",
       "    <tr>\n",
       "      <th>1925034</th>\n",
       "      <td>Club Comunicaciones</td>\n",
       "      <td>Adultos Mayores de 80 años</td>\n",
       "    </tr>\n",
       "    <tr>\n",
       "      <th>1925036</th>\n",
       "      <td>Centro Cultural El Adan</td>\n",
       "      <td>Adultos Mayores de 80 años</td>\n",
       "    </tr>\n",
       "    <tr>\n",
       "      <th>1925038</th>\n",
       "      <td>Usina del Arte</td>\n",
       "      <td>Adultos Mayores de 80 años</td>\n",
       "    </tr>\n",
       "    <tr>\n",
       "      <th>1925041</th>\n",
       "      <td>La Rural</td>\n",
       "      <td>Adultos Mayores de 80 años</td>\n",
       "    </tr>\n",
       "    <tr>\n",
       "      <th>1925043</th>\n",
       "      <td>Centro de Dia N9 y 13</td>\n",
       "      <td>Adultos Mayores de 80 años</td>\n",
       "    </tr>\n",
       "  </tbody>\n",
       "</table>\n",
       "<p>789670 rows × 2 columns</p>\n",
       "</div>"
      ],
      "text/plain": [
       "                                   sede                    servicio\n",
       "0                       Centro Islámico  Adultos Mayores de 80 años\n",
       "1                            Club Ferro  Adultos Mayores de 80 años\n",
       "3        Centro de día Parque Chacabuco  Adultos Mayores de 80 años\n",
       "5                    Centro C. Recoleta  Adultos Mayores de 80 años\n",
       "10              Centro Cultural El Adan  Adultos Mayores de 80 años\n",
       "...                                 ...                         ...\n",
       "1925034             Club Comunicaciones  Adultos Mayores de 80 años\n",
       "1925036         Centro Cultural El Adan  Adultos Mayores de 80 años\n",
       "1925038                  Usina del Arte  Adultos Mayores de 80 años\n",
       "1925041                        La Rural  Adultos Mayores de 80 años\n",
       "1925043           Centro de Dia N9 y 13  Adultos Mayores de 80 años\n",
       "\n",
       "[789670 rows x 2 columns]"
      ]
     },
     "execution_count": 40,
     "metadata": {},
     "output_type": "execute_result"
    }
   ],
   "source": [
    "variableTurnos[variableTurnos['genero']=='MASCULINO'][['sede','servicio']]"
   ]
  },
  {
   "cell_type": "code",
   "execution_count": 41,
   "metadata": {},
   "outputs": [
    {
     "data": {
      "text/html": [
       "<div>\n",
       "<style scoped>\n",
       "    .dataframe tbody tr th:only-of-type {\n",
       "        vertical-align: middle;\n",
       "    }\n",
       "\n",
       "    .dataframe tbody tr th {\n",
       "        vertical-align: top;\n",
       "    }\n",
       "\n",
       "    .dataframe thead th {\n",
       "        text-align: right;\n",
       "    }\n",
       "</style>\n",
       "<table border=\"1\" class=\"dataframe\">\n",
       "  <thead>\n",
       "    <tr style=\"text-align: right;\">\n",
       "      <th></th>\n",
       "      <th>genero</th>\n",
       "      <th>sede</th>\n",
       "    </tr>\n",
       "  </thead>\n",
       "  <tbody>\n",
       "    <tr>\n",
       "      <th>0</th>\n",
       "      <td>MASCULINO</td>\n",
       "      <td>Centro Islámico</td>\n",
       "    </tr>\n",
       "    <tr>\n",
       "      <th>1</th>\n",
       "      <td>MASCULINO</td>\n",
       "      <td>Club Ferro</td>\n",
       "    </tr>\n",
       "    <tr>\n",
       "      <th>2</th>\n",
       "      <td>FEMENINO</td>\n",
       "      <td>La Rural</td>\n",
       "    </tr>\n",
       "    <tr>\n",
       "      <th>3</th>\n",
       "      <td>MASCULINO</td>\n",
       "      <td>Centro de día Parque Chacabuco</td>\n",
       "    </tr>\n",
       "    <tr>\n",
       "      <th>4</th>\n",
       "      <td>FEMENINO</td>\n",
       "      <td>Centro C. Recoleta</td>\n",
       "    </tr>\n",
       "    <tr>\n",
       "      <th>...</th>\n",
       "      <td>...</td>\n",
       "      <td>...</td>\n",
       "    </tr>\n",
       "    <tr>\n",
       "      <th>1925040</th>\n",
       "      <td>FEMENINO</td>\n",
       "      <td>Casa del Historiador</td>\n",
       "    </tr>\n",
       "    <tr>\n",
       "      <th>1925041</th>\n",
       "      <td>MASCULINO</td>\n",
       "      <td>La Rural</td>\n",
       "    </tr>\n",
       "    <tr>\n",
       "      <th>1925042</th>\n",
       "      <td>FEMENINO</td>\n",
       "      <td>Club Glorias Argentinas</td>\n",
       "    </tr>\n",
       "    <tr>\n",
       "      <th>1925043</th>\n",
       "      <td>MASCULINO</td>\n",
       "      <td>Centro de Dia N9 y 13</td>\n",
       "    </tr>\n",
       "    <tr>\n",
       "      <th>1925044</th>\n",
       "      <td>FEMENINO</td>\n",
       "      <td>Club San Lorenzo</td>\n",
       "    </tr>\n",
       "  </tbody>\n",
       "</table>\n",
       "<p>1925045 rows × 2 columns</p>\n",
       "</div>"
      ],
      "text/plain": [
       "            genero                            sede\n",
       "0        MASCULINO                 Centro Islámico\n",
       "1        MASCULINO                      Club Ferro\n",
       "2         FEMENINO                        La Rural\n",
       "3        MASCULINO  Centro de día Parque Chacabuco\n",
       "4         FEMENINO              Centro C. Recoleta\n",
       "...            ...                             ...\n",
       "1925040   FEMENINO            Casa del Historiador\n",
       "1925041  MASCULINO                        La Rural\n",
       "1925042   FEMENINO         Club Glorias Argentinas\n",
       "1925043  MASCULINO           Centro de Dia N9 y 13\n",
       "1925044   FEMENINO                Club San Lorenzo\n",
       "\n",
       "[1925045 rows x 2 columns]"
      ]
     },
     "execution_count": 41,
     "metadata": {},
     "output_type": "execute_result"
    }
   ],
   "source": [
    "# Subset\n",
    "variableTurnos[['genero','sede']]"
   ]
  },
  {
   "cell_type": "code",
   "execution_count": 42,
   "metadata": {},
   "outputs": [
    {
     "data": {
      "text/html": [
       "<div>\n",
       "<style scoped>\n",
       "    .dataframe tbody tr th:only-of-type {\n",
       "        vertical-align: middle;\n",
       "    }\n",
       "\n",
       "    .dataframe tbody tr th {\n",
       "        vertical-align: top;\n",
       "    }\n",
       "\n",
       "    .dataframe thead th {\n",
       "        text-align: right;\n",
       "    }\n",
       "</style>\n",
       "<table border=\"1\" class=\"dataframe\">\n",
       "  <thead>\n",
       "    <tr style=\"text-align: right;\">\n",
       "      <th></th>\n",
       "      <th>genero</th>\n",
       "      <th>sede</th>\n",
       "      <th>servicio</th>\n",
       "      <th>fecha_cita</th>\n",
       "    </tr>\n",
       "  </thead>\n",
       "  <tbody>\n",
       "    <tr>\n",
       "      <th>0</th>\n",
       "      <td>MASCULINO</td>\n",
       "      <td>Centro Islámico</td>\n",
       "      <td>Adultos Mayores de 80 años</td>\n",
       "      <td>01MAR2021:11:15:00</td>\n",
       "    </tr>\n",
       "    <tr>\n",
       "      <th>1</th>\n",
       "      <td>MASCULINO</td>\n",
       "      <td>Club Ferro</td>\n",
       "      <td>Adultos Mayores de 80 años</td>\n",
       "      <td>02MAR2021:09:00:00</td>\n",
       "    </tr>\n",
       "    <tr>\n",
       "      <th>3</th>\n",
       "      <td>MASCULINO</td>\n",
       "      <td>Centro de día Parque Chacabuco</td>\n",
       "      <td>Adultos Mayores de 80 años</td>\n",
       "      <td>25FEB2021:13:00:00</td>\n",
       "    </tr>\n",
       "    <tr>\n",
       "      <th>5</th>\n",
       "      <td>MASCULINO</td>\n",
       "      <td>Centro C. Recoleta</td>\n",
       "      <td>Adultos Mayores de 80 años</td>\n",
       "      <td>01MAR2021:09:30:00</td>\n",
       "    </tr>\n",
       "    <tr>\n",
       "      <th>10</th>\n",
       "      <td>MASCULINO</td>\n",
       "      <td>Centro Cultural El Adan</td>\n",
       "      <td>Adultos Mayores de 80 años</td>\n",
       "      <td>24FEB2021:14:15:00</td>\n",
       "    </tr>\n",
       "    <tr>\n",
       "      <th>...</th>\n",
       "      <td>...</td>\n",
       "      <td>...</td>\n",
       "      <td>...</td>\n",
       "      <td>...</td>\n",
       "    </tr>\n",
       "    <tr>\n",
       "      <th>1925034</th>\n",
       "      <td>MASCULINO</td>\n",
       "      <td>Club Comunicaciones</td>\n",
       "      <td>Adultos Mayores de 80 años</td>\n",
       "      <td>01MAR2021:09:00:00</td>\n",
       "    </tr>\n",
       "    <tr>\n",
       "      <th>1925036</th>\n",
       "      <td>MASCULINO</td>\n",
       "      <td>Centro Cultural El Adan</td>\n",
       "      <td>Adultos Mayores de 80 años</td>\n",
       "      <td>25FEB2021:15:30:00</td>\n",
       "    </tr>\n",
       "    <tr>\n",
       "      <th>1925038</th>\n",
       "      <td>MASCULINO</td>\n",
       "      <td>Usina del Arte</td>\n",
       "      <td>Adultos Mayores de 80 años</td>\n",
       "      <td>24FEB2021:12:15:00</td>\n",
       "    </tr>\n",
       "    <tr>\n",
       "      <th>1925041</th>\n",
       "      <td>MASCULINO</td>\n",
       "      <td>La Rural</td>\n",
       "      <td>Adultos Mayores de 80 años</td>\n",
       "      <td>02MAR2021:15:00:00</td>\n",
       "    </tr>\n",
       "    <tr>\n",
       "      <th>1925043</th>\n",
       "      <td>MASCULINO</td>\n",
       "      <td>Centro de Dia N9 y 13</td>\n",
       "      <td>Adultos Mayores de 80 años</td>\n",
       "      <td>25FEB2021:08:15:00</td>\n",
       "    </tr>\n",
       "  </tbody>\n",
       "</table>\n",
       "<p>50511 rows × 4 columns</p>\n",
       "</div>"
      ],
      "text/plain": [
       "            genero                            sede  \\\n",
       "0        MASCULINO                 Centro Islámico   \n",
       "1        MASCULINO                      Club Ferro   \n",
       "3        MASCULINO  Centro de día Parque Chacabuco   \n",
       "5        MASCULINO              Centro C. Recoleta   \n",
       "10       MASCULINO         Centro Cultural El Adan   \n",
       "...            ...                             ...   \n",
       "1925034  MASCULINO             Club Comunicaciones   \n",
       "1925036  MASCULINO         Centro Cultural El Adan   \n",
       "1925038  MASCULINO                  Usina del Arte   \n",
       "1925041  MASCULINO                        La Rural   \n",
       "1925043  MASCULINO           Centro de Dia N9 y 13   \n",
       "\n",
       "                           servicio          fecha_cita  \n",
       "0        Adultos Mayores de 80 años  01MAR2021:11:15:00  \n",
       "1        Adultos Mayores de 80 años  02MAR2021:09:00:00  \n",
       "3        Adultos Mayores de 80 años  25FEB2021:13:00:00  \n",
       "5        Adultos Mayores de 80 años  01MAR2021:09:30:00  \n",
       "10       Adultos Mayores de 80 años  24FEB2021:14:15:00  \n",
       "...                             ...                 ...  \n",
       "1925034  Adultos Mayores de 80 años  01MAR2021:09:00:00  \n",
       "1925036  Adultos Mayores de 80 años  25FEB2021:15:30:00  \n",
       "1925038  Adultos Mayores de 80 años  24FEB2021:12:15:00  \n",
       "1925041  Adultos Mayores de 80 años  02MAR2021:15:00:00  \n",
       "1925043  Adultos Mayores de 80 años  25FEB2021:08:15:00  \n",
       "\n",
       "[50511 rows x 4 columns]"
      ]
     },
     "execution_count": 42,
     "metadata": {},
     "output_type": "execute_result"
    }
   ],
   "source": [
    "variableTurnos[(variableTurnos['genero']=='MASCULINO') & (variableTurnos['servicio']=='Adultos Mayores de 80 años')]"
   ]
  }
 ],
 "metadata": {
  "kernelspec": {
   "display_name": "Python 3 (ipykernel)",
   "language": "python",
   "name": "python3"
  },
  "language_info": {
   "codemirror_mode": {
    "name": "ipython",
    "version": 3
   },
   "file_extension": ".py",
   "mimetype": "text/x-python",
   "name": "python",
   "nbconvert_exporter": "python",
   "pygments_lexer": "ipython3",
   "version": "3.10.10"
  },
  "vscode": {
   "interpreter": {
    "hash": "8649ced70e2df50cbec1162fce5f764529cbe99dc753d77d52a836183a2bd877"
   }
  }
 },
 "nbformat": 4,
 "nbformat_minor": 2
}
