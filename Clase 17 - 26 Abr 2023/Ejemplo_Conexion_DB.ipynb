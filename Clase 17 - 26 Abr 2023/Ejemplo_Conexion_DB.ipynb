{
 "cells": [
  {
   "cell_type": "code",
   "execution_count": 13,
   "metadata": {},
   "outputs": [
    {
     "name": "stdout",
     "output_type": "stream",
     "text": [
      "Connected to Postgres successfully!\n"
     ]
    }
   ],
   "source": [
    "import psycopg2\n",
    "\n",
    "url=\"localhost\"\n",
    "data_base=\"UNIDAD2_BDS\"\n",
    "user=\"postgres\"\n",
    "with open(\"C:/Users/Windows/Downloads/pwd_postgre.txt\",'r') as f:\n",
    "    pwd= f.read()\n",
    "\n",
    "try:\n",
    "    conn = psycopg2.connect(\n",
    "        host=url,\n",
    "        dbname=data_base,\n",
    "        user=user,\n",
    "        password=pwd,\n",
    "        port='5432'\n",
    "    )\n",
    "    print(\"Connected to Postgres successfully!\")\n",
    "    \n",
    "except Exception as e:\n",
    "    print(\"Unable to connect to Postgre.\")\n",
    "    print(e)"
   ]
  },
  {
   "cell_type": "code",
   "execution_count": 14,
   "metadata": {},
   "outputs": [
    {
     "data": {
      "text/plain": [
       "<connection object at 0x000002CB76CDB260; dsn: 'user=postgres password=xxx dbname=UNIDAD2_BDS host=localhost port=5432', closed: 0>"
      ]
     },
     "execution_count": 14,
     "metadata": {},
     "output_type": "execute_result"
    }
   ],
   "source": [
    "conn"
   ]
  },
  {
   "cell_type": "code",
   "execution_count": 15,
   "metadata": {},
   "outputs": [],
   "source": [
    "import pandas as pd\n",
    "ruta_archivos='./Tablas/'\n",
    "product = pd.read_csv(ruta_archivos+'product.csv')\n",
    "productreview = pd.read_csv(ruta_archivos+'productreview.csv')\n",
    "productmodelproductdescriptionculture = pd.read_csv(ruta_archivos+'productmodelproductdescriptionculture.csv')\n",
    "productdescription = pd.read_csv(ruta_archivos+'productdescription.csv')\n",
    "salesorderdetail = pd.read_csv(ruta_archivos+'salesorderdetail.csv')\n",
    "productcategory = pd.read_csv(ruta_archivos+'productcategory.csv')\n",
    "productsubcategory = pd.read_csv(ruta_archivos+'productsubcategory.csv')\n",
    "salesperson = pd.read_csv(ruta_archivos+'salesperson.csv')\n",
    "salesorderheader = pd.read_csv(ruta_archivos+'salesorderheader.csv')\n",
    "salesterritory = pd.read_csv(ruta_archivos+'salesterritory.csv')\n",
    "countryregioncurrency = pd.read_csv(ruta_archivos+'countryregioncurrency.csv')\n",
    "currencyrate = pd.read_csv(ruta_archivos+'currencyrate.csv')"
   ]
  },
  {
   "cell_type": "code",
   "execution_count": 16,
   "metadata": {},
   "outputs": [
    {
     "data": {
      "text/plain": [
       "productid              int64\n",
       "name                  object\n",
       "productnumber         object\n",
       "makeflag              object\n",
       "finishedgoodsflag     object\n",
       "                      ...   \n",
       "sellstartdate         object\n",
       "sellenddate           object\n",
       "discontinueddate     float64\n",
       "rowguid               object\n",
       "modifieddate          object\n",
       "Length: 25, dtype: object"
      ]
     },
     "execution_count": 16,
     "metadata": {},
     "output_type": "execute_result"
    }
   ],
   "source": [
    "product.dtypes"
   ]
  },
  {
   "cell_type": "markdown",
   "metadata": {},
   "source": [
    "El `type_map` lo puedes hacer tan sofisticado como quieras como esto:\n",
    "\n",
    "```python\n",
    "type_map = {\n",
    "    'int64': 'INT',\n",
    "    'float64': 'FLOAT',\n",
    "    'bool': 'BOOLEAN',\n",
    "    'datetime64[ns]': 'TIMESTAMP',\n",
    "    'timedelta64[ns]': 'INTERVAL',\n",
    "    'complex128': 'VARCHAR(50)',\n",
    "    'object': 'VARCHAR(50)',\n",
    "    'category': 'VARCHAR(50)',\n",
    "}\n",
    "```"
   ]
  },
  {
   "cell_type": "code",
   "execution_count": 17,
   "metadata": {},
   "outputs": [],
   "source": [
    "from psycopg2.extras import execute_values\n",
    "\n",
    "def cargar_en_redshift(conn, table_name, dataframe):\n",
    "    dtypes= dataframe.dtypes\n",
    "    cols= list(dtypes.index )\n",
    "    tipos= list(dtypes.values)\n",
    "    type_map = {'int64': 'INT','float64': 'FLOAT','object': 'VARCHAR(50)'}\n",
    "    sql_dtypes = [type_map[str(dtype)] for dtype in tipos]\n",
    "    # Definir formato SQL VARIABLE TIPO_DATO\n",
    "    column_defs = [f\"{name} {data_type}\" for name, data_type in zip(cols, sql_dtypes)]\n",
    "    # Combine column definitions into the CREATE TABLE statement\n",
    "    table_schema = f\"\"\"\n",
    "        CREATE TABLE IF NOT EXISTS {table_name} (\n",
    "            {', '.join(column_defs)}\n",
    "        );\n",
    "        \"\"\"\n",
    "    # Crear la tabla\n",
    "    cur = conn.cursor()\n",
    "    cur.execute(table_schema)\n",
    "    # Generar los valores a insertar\n",
    "    values = [tuple(x) for x in dataframe.to_numpy()]\n",
    "    # Definir el INSERT\n",
    "    insert_sql = f\"INSERT INTO {table_name} ({', '.join(cols)}) VALUES %s\"\n",
    "    # Execute the transaction to insert the data\n",
    "    cur.execute(\"BEGIN\")\n",
    "    execute_values(cur, insert_sql, values)\n",
    "    cur.execute(\"COMMIT\")\n",
    "    print('Proceso terminado')"
   ]
  },
  {
   "cell_type": "markdown",
   "metadata": {},
   "source": [
    "# Probando que funcione"
   ]
  },
  {
   "cell_type": "code",
   "execution_count": 19,
   "metadata": {},
   "outputs": [
    {
     "name": "stdout",
     "output_type": "stream",
     "text": [
      "Proceso terminado\n"
     ]
    }
   ],
   "source": [
    "cargar_en_redshift(conn=conn, table_name='product', dataframe=product)"
   ]
  },
  {
   "cell_type": "code",
   "execution_count": 20,
   "metadata": {},
   "outputs": [
    {
     "name": "stdout",
     "output_type": "stream",
     "text": [
      "Proceso terminado\n"
     ]
    }
   ],
   "source": [
    "cargar_en_redshift(conn=conn, table_name='currencyrate', dataframe=currencyrate)"
   ]
  },
  {
   "cell_type": "code",
   "execution_count": 21,
   "metadata": {},
   "outputs": [
    {
     "name": "stdout",
     "output_type": "stream",
     "text": [
      "Proceso terminado\n"
     ]
    }
   ],
   "source": [
    "cargar_en_redshift(conn=conn, table_name='productcategory', dataframe=productcategory)"
   ]
  },
  {
   "cell_type": "code",
   "execution_count": 22,
   "metadata": {},
   "outputs": [],
   "source": [
    "conn.close()"
   ]
  }
 ],
 "metadata": {
  "kernelspec": {
   "display_name": "base",
   "language": "python",
   "name": "python3"
  },
  "language_info": {
   "codemirror_mode": {
    "name": "ipython",
    "version": 3
   },
   "file_extension": ".py",
   "mimetype": "text/x-python",
   "name": "python",
   "nbconvert_exporter": "python",
   "pygments_lexer": "ipython3",
   "version": "3.9.12"
  },
  "orig_nbformat": 4
 },
 "nbformat": 4,
 "nbformat_minor": 2
}
